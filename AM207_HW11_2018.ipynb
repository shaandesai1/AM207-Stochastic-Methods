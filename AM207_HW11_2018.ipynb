{
 "cells": [
  {
   "cell_type": "markdown",
   "metadata": {},
   "source": [
    "# APMTH 207: Advanced Scientific Computing: \n",
    "## Stochastic Methods for Data Analysis, Inference and Optimization\n",
    "## Homework 11\n",
    "**Harvard University**<br>\n",
    "**Spring 2017**<br>\n",
    "**Instructors: Rahul Dave**<br>\n",
    "**Due Date: ** Monday, April 23rd, 2018 at 11:59pm\n",
    "\n",
    "**Instructions:**\n",
    "\n",
    "- Upload your final answers as an iPython notebook containing all work to Canvas.\n",
    "\n",
    "- Structure your notebook and your work to maximize readability."
   ]
  },
  {
   "cell_type": "markdown",
   "metadata": {},
   "source": [
    "## The AM207 Cambridge Nursery\n",
    "\n",
    "A plant nursery in Cambridge is exprimentally cross-breeding two types of hibiscus flowers: blue and pink. The goal is to create an exotic flower whose petals are pink with a ring of blue on each. \n",
    "\n",
    "There are four types of child plant that can result from this cross-breeding: \n",
    "\n",
    "  - Type 1: blue petals\n",
    "  - Type 2: pink petals \n",
    "  - Type 3: purple petals\n",
    "  - Type 4: pink petals with a blue ring on each (the desired effect). \n",
    "\n",
    "Out of 197 initial cross-breedings, the nursery obtained the following distribution over the four types of child plants: \n",
    "$$Y = (y_1, y_2, y_3, y_4) = (125, 18, 20, 34)$$\n",
    "where $y_i$ represents the number of child plants that are of type $i$.\n",
    "\n",
    "The nursery then consulted a famed Harvard plant geneticist, who informed them that the probability of obtaining each type of child plant in any single breeding experiment is as follows:\n",
    "$$ \\frac{\\theta+2}{4}, \\frac{1-\\theta}{4}, \\frac{1-\\theta}{4}, \\frac{\\theta}{4}.$$\n",
    "Unfortunately, the geneticist did not specify the quantity $\\theta$.\n",
    "\n",
    "Clearly, the nursery is interested in understanding how many cross-breeding they must perform, on average, in order to obtain a certain number of child plants with the exotic blue rings. To do this they must be able to compute $\\theta$. \n",
    "\n",
    "The owners of the nursery, being top students in AM207, decided to model the experiment in hopes of discovering $\\theta$ using the results from their 197 initial experiments. \n",
    "\n",
    "They chose to model the observed data using a multinomial model and thus calculated the likelihood to be:\n",
    "$$ p(y  \\vert  \\theta) \\propto (2+\\theta)^{y_1} (1-\\theta)^{y_2+y_3}  \\, \\theta^{y_4}\n",
    "$$\n",
    "\n",
    "Being good Bayesians, they also imposed a prior on $\\theta$, $\\rm{Beta}(a, b)$.\n",
    "\n",
    "Thus, the posterior is:\n",
    "$$ p(\\theta \\vert  Y) = \\left( 2+\\theta \\right)^{y_1} (1-\\theta)^{y_2+y_3} \\, \\theta^{\n",
    "y_4} \\, \\theta^{a-1} \\, (1-\\theta)^{b-1}. $$\n",
    "\n",
    "If the nursery owners are able to sample from the posterior, they would be able to understand the distribution of $\\theta$ and make appropriate estimates."
   ]
  },
  {
   "cell_type": "markdown",
   "metadata": {},
   "source": [
    "## Problem 1. Sampling using data augmentation\n",
    "\n",
    "Realizing that it would be difficult to sample from the posterior directly and after being repeatedly frustrated by attempts of Metropolis-Hastings and Gibbs sampling for this model, the nursery owners decided to augment their model and hopefully obtain a friendlier looking distribution that allows for easy sampling.\n",
    "\n",
    "They augment the data with a new variable $z$ such that:\n",
    "$$z + (y_1 - z) = y_1.$$\n",
    "That is, using $z$, we are breaking $y_1$, the number of type I child plants, into two subtypes. Let the probability of obtaining the two subtype be $1/2$ and $\\theta/4$, respectively. Now, we can interpret $y_1$ to be the total number of trials in a binomial trial. Thus, the new likelihood can be written as\n",
    "$$ p(y, z  \\vert  \\theta) \\propto \\binom{y_{1}}{z} \\left (\\frac{1}{2} \\right )^{y_1-z} \\left(\\frac{\\theta}{4} \\right )^{z}  (1-\\theta)^{y_2+y_3}  \\, \\theta^{y_4}\n",
    "$$\n",
    "\n",
    "\n",
    "Derive the joint posterior $p(\\theta, z  \\vert  y)$ and sample from it using Gibbs sampling.\n",
    "\n",
    "Visualize the distribution of theta and, from this distribution, estimate the probability of obtaining a type 4 child plant (with the blue rings) in any cross-breeding experiment."
   ]
  },
  {
   "cell_type": "markdown",
   "metadata": {},
   "source": [
    "#### Answers\n",
    "\n",
    "So by introducing this auxiliary variable we go from:\n",
    "\n",
    "$$ P(\\theta|y) \\rightarrow P(\\theta,z|y) $$\n",
    "\n",
    "so our posterior becomes a joint posterior and will help make things easier b/c the joint posterior can be sampled in a Gibbs way e.g:\n",
    "\n",
    "$$ P(\\theta,z|y) \\propto P(\\theta|z,y)*P(z|\\theta,y) $$\n",
    "\n",
    "\n",
    "Question is, how do we get the posterior conditionals? We can use p(y,z|theta) and p(theta) to get a proportional to the full joint distribution such that:\n",
    "\n",
    "$$ P(y,z,\\theta) \\propto P(y,z|\\theta)*P(\\theta) $$\n",
    "\n",
    "$$ P(y,z,\\theta) \\propto {y1\\choose z} (0.5)^{y_1-z}(\\theta/4)^z (1-\\theta)^{y_2 + y_3 + b -1} (\\theta)^{y_4 +a -1} $$"
   ]
  },
  {
   "cell_type": "markdown",
   "metadata": {},
   "source": [
    "Now with the full joint we can get the conditionals by holding variables in the above equation constant s.t.:\n",
    "\n",
    "$$ P(z|\\theta,y) \\propto {y_1 \\choose z} (0.5)^{y_1-z}(\\theta/4)^z $$\n",
    "\n",
    "$$ P(\\theta|z,y) \\propto (1-\\theta)^{y_2+y_3+b-1} (\\theta)^{y_4 + a + z -1} $$\n",
    "\n",
    "we need to make sure the first of these equations actually has normalized probabilities. To do this we need to remember that the full probability assigned to class 1 was $$(2+\\theta)/4$$, so we need to divide our numbers by this quantity s.t:\n",
    "\n",
    "$$ P(z|\\theta,y) \\propto {y_1 \\choose z} (\\frac{\\theta}{2+\\theta})^z (\\frac{2}{2+\\theta})^{y_1-z} $$"
   ]
  },
  {
   "cell_type": "markdown",
   "metadata": {},
   "source": [
    "So now to sample our posterior we simply can gibbs sample the conditionals. We also know that the samples we get should basically be a beta distribution with updated parameters through beta binomial conjugacy."
   ]
  },
  {
   "cell_type": "code",
   "execution_count": 3,
   "metadata": {},
   "outputs": [
    {
     "name": "stderr",
     "output_type": "stream",
     "text": [
      "WARNING (theano.tensor.blas): Using NumPy C-API based implementation for BLAS functions.\n",
      "C:\\Users\\Shaan Desai\\Anaconda3\\envs\\am207\\lib\\site-packages\\h5py\\__init__.py:36: FutureWarning: Conversion of the second argument of issubdtype from `float` to `np.floating` is deprecated. In future, it will be treated as `np.float64 == np.dtype(float).type`.\n",
      "  from ._conv import register_converters as _register_converters\n"
     ]
    }
   ],
   "source": [
    "import numpy as np\n",
    "import matplotlib.pyplot as plt\n",
    "%matplotlib inline\n",
    "\n",
    "import pymc3 as pm\n",
    "from pymc3 import traceplot\n",
    "from pymc3 import autocorrplot\n",
    "from pymc3 import gelman_rubin\n",
    "from pymc3 import geweke  \n",
    "from pymc3 import forestplot\n",
    "\n",
    "y1,y2,y3,y4 = 125,18,20,34\n",
    "a = 1\n",
    "b = 1\n",
    "#make sampler a function (gibbs sampler)\n",
    "def gibbs(nsamps):\n",
    "    N = nsamps\n",
    "    x1all=np.zeros(N+1)\n",
    "    x2all=np.zeros(N+1)\n",
    "    #Initialize x1 and x2\n",
    "    x1all[0]=0.2\n",
    "    x2all[0]=50.\n",
    "    \n",
    "    \n",
    "    for i in range(1,N,2):\n",
    "        x1all[i] = np.random.beta(y4+a+x2all[i-1],y2+y3+b)\n",
    "        x2all[i] = x2all[i-1]\n",
    "\n",
    "        x2all[i+1] = np.random.binomial(y1,x1all[i]/(2+x1all[i]))\n",
    "        x1all[i+1] = x1all[i]\n",
    "    return x1all,x2all\n"
   ]
  },
  {
   "cell_type": "code",
   "execution_count": 2,
   "metadata": {},
   "outputs": [],
   "source": [
    "theta,z = gibbs(10000)"
   ]
  },
  {
   "cell_type": "code",
   "execution_count": 9,
   "metadata": {},
   "outputs": [],
   "source": [
    "def corrplot(trace,ax, maxlags=50):\n",
    "    ax.acorr(trace-np.mean(trace),  normed=True, maxlags=maxlags);\n",
    "    ax.set_xlim([0, maxlags])"
   ]
  },
  {
   "cell_type": "markdown",
   "metadata": {},
   "source": [
    "Correlation plot will help us determine a good burnin and thinning param"
   ]
  },
  {
   "cell_type": "code",
   "execution_count": 12,
   "metadata": {},
   "outputs": [
    {
     "data": {
      "text/plain": [
       "Text(0.5,1,'Correlation of z')"
      ]
     },
     "execution_count": 12,
     "metadata": {},
     "output_type": "execute_result"
    },
    {
     "data": {
      "image/png": "[encoded data removed]",
      "text/plain": [
       "<Figure size 720x360 with 2 Axes>"
      ]
     },
     "metadata": {},
     "output_type": "display_data"
    }
   ],
   "source": [
    "N = 10000\n",
    "fig,ax = plt.subplots(1,2,figsize=(10,5))\n",
    "corrplot(theta[N//10::2],ax[0])\n",
    "corrplot(z[N//10::2],ax[1])\n",
    "ax[0].set_title('Correlation of theta')\n",
    "ax[1].set_title('Correlation of z')"
   ]
  },
  {
   "cell_type": "code",
   "execution_count": 17,
   "metadata": {},
   "outputs": [
    {
     "name": "stderr",
     "output_type": "stream",
     "text": [
      "C:\\Users\\Shaan Desai\\Anaconda3\\envs\\am207\\lib\\site-packages\\matplotlib\\axes\\_axes.py:6462: UserWarning: The 'normed' kwarg is deprecated, and has been replaced by the 'density' kwarg.\n",
      "  warnings.warn(\"The 'normed' kwarg is deprecated, and has been \"\n"
     ]
    },
    {
     "data": {
      "image/png": "[encoded data removed]",
      "text/plain": [
       "<Figure size 432x288 with 1 Axes>"
      ]
     },
     "metadata": {},
     "output_type": "display_data"
    }
   ],
   "source": [
    "import seaborn as sns\n",
    "sns.distplot(theta[N//10::2]);"
   ]
  },
  {
   "cell_type": "code",
   "execution_count": 21,
   "metadata": {},
   "outputs": [
    {
     "name": "stdout",
     "output_type": "stream",
     "text": [
      "probability of getting a 4th type of flower = 0.15594353241049208 \n"
     ]
    }
   ],
   "source": [
    "print('probability of getting a 4th type of flower = %s ' %(np.mean(theta[N//10::2])/4))"
   ]
  },
  {
   "cell_type": "markdown",
   "metadata": {},
   "source": [
    "## Problem 2. Finding the MLE using Expectation Maximization\n",
    "\n",
    "Treat the augmented model as a latent variable model. \n",
    "\n",
    "### Part A. \n",
    "\n",
    "Write down an expression (up to unimportant constants - you must decide what unimportant means) for each of the following:\n",
    "\n",
    "(1) the observed data log likelihood\n",
    "\n",
    "(2) the complete(full) data log likelihood\n",
    "\n",
    "**Hint:** You should already have the observed data likelihood and the complete data likelihood from Problem 1, you just need to take their logs for this problem.\n",
    "\n",
    "(3) the Auxilary function, $Q(\\theta, \\theta^{(t-1)})$, or the expected complete(full) data log likelihood, defined by\n",
    "$$Q(\\theta, \\theta^{(t-1)}) = \\mathbb{E}_{Z  \\vert  Y=y, \\Theta = \\theta^{t-1}}[\\text{the complete data log likelihood}]$$\n",
    "\n",
    "In other words $Z  \\vert  Y=y, \\Theta = \\theta^{t-1}$ is $q(z, \\theta_{old})$ from lecture at the end of the E-step and $Q$ is the z-posterior expectation (at $\\theta_{old}$) of the full data log likelihood, which is the ELBO minus the entropy of $q$ (which being evaluated at $\\theta_{old}$ is not dependent on $\\theta$ and thus irrelevant for maximization).\n",
    "\n",
    "### Part B:\n",
    "\n",
    "We will maximize the likelihood through Expectation Maximization (EM). In order to preform EM, we must iterate through the following steps\n",
    "\n",
    "- (Expectation) Compute the Auxilary function, $Q(\\theta, \\theta^{t-1})$ (the expectation of the full data likelihood)\n",
    "- (Maximization) Compute $\\theta^{t} = \\text{argmax}_\\theta Q(\\theta, \\theta^{(t-1)})$\n",
    "\n",
    "Thus, you must compute exact formulae for the following:\n",
    "1. the Auxilary function, $Q(\\theta, \\theta^{(t-1)})$, for a given $\\theta^{(t-1)}$. That is, compute the expectation of the complete data log likelihood.\n",
    "2. $\\theta^{t}$, by maximizing the Auxilary function $Q(\\theta, \\theta^{(t-1)})$.\n",
    "\n",
    "**Hint:** You don't actually need to do any difficult optimization for the M-step. After taking the expectation of the complete data log likelihood in the E-step, match your $Q(\\theta, \\theta^{(t-1)})$ to the log pdf of a familiar distribution, then use the known formula for the mode of this distribution to optimize $Q(\\theta, \\theta^{(t-1)})$.\n",
    "\n",
    "Use these to **estimate the MLE** of $\\theta$ using EM (choose your own reasonable criterion for convergence)."
   ]
  },
  {
   "cell_type": "markdown",
   "metadata": {},
   "source": [
    "#### Part A\n",
    "\n",
    "i)\n",
    "$$ p(y  \\vert  \\theta) \\propto (2+\\theta)^{y_1} (1-\\theta)^{y_2+y_3}  \\, \\theta^{y_4} $$\n",
    "\n",
    "Thus the log likelihood is:\n",
    "\n",
    "$$ log(p(y\\vert \\theta)) \\propto y_1 log(2+\\theta) + (y_2+y_3) log(1-\\theta) + y_4 log(\\theta) $$\n",
    " "
   ]
  },
  {
   "cell_type": "markdown",
   "metadata": {},
   "source": [
    "ii)\n",
    "\n",
    "$$ p(y, z  \\vert  \\theta) \\propto \\binom{y_{1}}{z} \\left (\\frac{1}{2} \\right )^{y_1-z} \\left(\\frac{\\theta}{4} \\right )^{z}  (1-\\theta)^{y_2+y_3}  \\, \\theta^{y_4}\n",
    "$$\n",
    "\n"
   ]
  },
  {
   "cell_type": "markdown",
   "metadata": {},
   "source": [
    "$$ log(p(y,z|\\theta)) \\propto log({y_1 \\choose z}) + (y_1 -z)*log(1/2) + z log(\\theta/4) + (y_2 + y_3) log(1-\\theta) + y_4 log(\\theta) $$ "
   ]
  },
  {
   "cell_type": "markdown",
   "metadata": {},
   "source": [
    "iii)\n",
    "\n",
    "$$ Q(\\theta,\\theta_{old}) = E_q (full likelihood) = E_q(log({y_1 \\choose z})) + y_1*log(1/2) - E_q(z)log(1/2) + E_q(z)log(\\theta/4) + (y_2 + y_3) log(1-\\theta) + y_4 log(\\theta) $$"
   ]
  },
  {
   "cell_type": "markdown",
   "metadata": {},
   "source": [
    "where \n",
    "\n",
    "$$q =  p(z|y,\\theta_{old})$$"
   ]
  },
  {
   "cell_type": "markdown",
   "metadata": {},
   "source": [
    "and where\n",
    "\n",
    "$$ E_q(z) = n*p $$\n",
    "\n",
    "since $$ p(z|y,\\theta_{old}) $$ is binomial"
   ]
  },
  {
   "cell_type": "markdown",
   "metadata": {},
   "source": [
    "#### Part B"
   ]
  },
  {
   "cell_type": "markdown",
   "metadata": {},
   "source": [
    "$$ dQ/d\\theta = E_q(z)*1/\\theta - (y_2 + y_3)/(1-\\theta) + y_4/\\theta = 0 $$"
   ]
  },
  {
   "cell_type": "markdown",
   "metadata": {},
   "source": [
    "Thus:\n",
    "    \n",
    "$$ \\theta = \\frac{E_q(z) + y_4}{E_q(z) + y_2 + y_3 + y_4} $$"
   ]
  },
  {
   "cell_type": "markdown",
   "metadata": {},
   "source": [
    "from wolfram alpha"
   ]
  },
  {
   "cell_type": "markdown",
   "metadata": {},
   "source": [
    "where $$ E_q(z) = \\frac{y_1 \\theta}{2+\\theta} $$"
   ]
  },
  {
   "cell_type": "code",
   "execution_count": 4,
   "metadata": {},
   "outputs": [],
   "source": [
    "def new_theta_fun(ez):\n",
    "    return (ez + y4)/(ez+y2+y3+y4)"
   ]
  },
  {
   "cell_type": "code",
   "execution_count": 5,
   "metadata": {},
   "outputs": [],
   "source": [
    "def ez_val(theta):\n",
    "    return (y1*theta)/(2+theta)"
   ]
  },
  {
   "cell_type": "code",
   "execution_count": 12,
   "metadata": {},
   "outputs": [],
   "source": [
    "new_theta = 10000\n",
    "itern = 0\n",
    "while np.abs(old_theta-new_theta) > 10**(-15):\n",
    "    if itern == 0:\n",
    "        old_theta = 0.2\n",
    "    else:\n",
    "        old_theta = new_theta\n",
    "    ez = ez_val(old_theta)\n",
    "    new_theta = new_theta_fun(ez)\n",
    "    itern+=1\n",
    "    "
   ]
  },
  {
   "cell_type": "code",
   "execution_count": 14,
   "metadata": {},
   "outputs": [
    {
     "name": "stdout",
     "output_type": "stream",
     "text": [
      "probability of getting a 4th type of flower = 0.15670537446774557 \n"
     ]
    }
   ],
   "source": [
    "print('probability of getting a 4th type of flower = %s ' %(new_theta/4))"
   ]
  },
  {
   "cell_type": "code",
   "execution_count": null,
   "metadata": {},
   "outputs": [],
   "source": []
  }
 ],
 "metadata": {
  "anaconda-cloud": {},
  "kernelspec": {
   "display_name": "Python 3",
   "language": "python",
   "name": "python3"
  },
  "language_info": {
   "codemirror_mode": {
    "name": "ipython",
    "version": 3
   },
   "file_extension": ".py",
   "mimetype": "text/x-python",
   "name": "python",
   "nbconvert_exporter": "python",
   "pygments_lexer": "ipython3",
   "version": "3.6.4"
  }
 },
 "nbformat": 4,
 "nbformat_minor": 2
}
