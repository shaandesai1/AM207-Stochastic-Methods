{
 "cells": [
  {
   "cell_type": "markdown",
   "metadata": {},
   "source": [
    "# APMTH 207: Advanced Scientific Computing: \n",
    "## Stochastic Methods for Data Analysis, Inference and Optimization\n",
    "## Homework #5\n",
    "**Harvard University**<br>\n",
    "**Spring 2018**<br>\n",
    "**Instructors: Rahul Dave**<br>\n",
    "**Due Date: ** Friday, March 2nd, 2018 at 11:00am\n",
    "\n",
    "**Instructions:**\n",
    "\n",
    "- Upload your final answers in a Jupyter notebook containing all work to Canvas.\n",
    "\n",
    "- Structure your notebook and your work to maximize readability."
   ]
  },
  {
   "cell_type": "markdown",
   "metadata": {},
   "source": [
    "## Problem 1: Optimization (contd)\n",
    "\n",
    "Suppose you are building a pricing model for laying down telecom cables over a geographical region. Your model takes as input a pair of  coordinates, $(x, y)$, and contains two parameters, $\\lambda_1, \\lambda_2$. Given a coordinate, $(x, y)$, and model parameters, the loss in revenue corresponding to the price model at location $(x, y)$ is described by\n",
    "$$\n",
    "L(x, y, \\lambda_1, \\lambda_2) = 0.000045\\lambda_2^2 y - 0.000098\\lambda_1^2 x  + 0.003926\\lambda_1 x\\exp\\left\\{\\left(y^2 - x^2\\right)\\left(\\lambda_1^2 + \\lambda_2^2\\right)\\right\\}\n",
    "$$\n",
    "Read the data contained in `HW3_data.csv`. This is a set of coordinates configured on the curve $y^2 - x^2 = -0.1$. Given the data, find parameters $\\lambda_1, \\lambda_2$ that minimize the net loss over the entire dataset.\n",
    "\n",
    "### Simulated Annealing \n",
    "Implement Simulated Annealing initalized at $(\\lambda_1, \\lambda_2) = (-5, 0)$ to minimize our loss function $L$. Compare your results to what you obtained for gradient descent and stochastic gradient descent initialized at $(\\lambda_1, \\lambda_2) = (-5, 0)$.\n",
    "\n",
    "For your Simulated Annealing implementation, we suggest *starting* with following settings for parameters (you should further experiment with and tweak these or feel free to set your own):\n",
    "\n",
    "- Proposal distribution: bivariate normal with covariance $[[1, 0], [0, 1]]$\n",
    "- Min Length: 500\n",
    "- Max Temperature: 10\n",
    "\n",
    "You should also set your own cooling schedule.\n",
    "\n",
    "For each temperature, plot the parameters accepted or the cost function with respect to the iteration number. What is happening to the these parameters or costs over iterations? \n",
    "Connect the trends you observe in the visualization to the lecture on Markov Chains."
   ]
  },
  {
   "cell_type": "code",
   "execution_count": 1,
   "metadata": {
    "collapsed": true
   },
   "outputs": [],
   "source": [
    "import random\n",
    "import itertools\n",
    "import numpy as np\n",
    "import matplotlib.pyplot as plt\n",
    "import pandas as pd\n",
    "from mpl_toolkits.mplot3d import Axes3D\n",
    "% matplotlib inline\n",
    "import time\n",
    "df = pd.read_csv('HW3_data.csv',header=None)"
   ]
  },
  {
   "cell_type": "code",
   "execution_count": 2,
   "metadata": {
    "collapsed": true
   },
   "outputs": [],
   "source": [
    "# total cost\n",
    "def cost(x,y,l1,l2):\n",
    "    return np.sum(0.000045*l2**2*y - 0.000098*l1**2*x + 0.003926*l1*x*np.exp(-0.1*(l1**2+l2**2)))"
   ]
  },
  {
   "cell_type": "code",
   "execution_count": 3,
   "metadata": {
    "collapsed": true
   },
   "outputs": [],
   "source": [
    "import math\n",
    "tf = lambda t: 0.8*t #temperature function\n",
    "itf = lambda length: math.ceil(1.2*length) #iteration function"
   ]
  },
  {
   "cell_type": "code",
   "execution_count": 4,
   "metadata": {
    "collapsed": true
   },
   "outputs": [],
   "source": [
    "def proposalfunc(vec):\n",
    "    a = np.random.multivariate_normal(vec,[[1,0],[0,1]])\n",
    "    return a"
   ]
  },
  {
   "cell_type": "code",
   "execution_count": 5,
   "metadata": {
    "collapsed": true
   },
   "outputs": [],
   "source": [
    "#adapted from Rahul\n",
    "def sa(initials, epochs):\n",
    "    accumulator=[]\n",
    "    tcosts = []\n",
    "    best_solution = old_solution = initials['solution']\n",
    "    T=initials['T']\n",
    "    length=initials['length']\n",
    "    best_energy = old_energy = cost(df.iloc[:,0],df.iloc[1,:],old_solution[0],old_solution[1])\n",
    "    accepted=0\n",
    "    total=0\n",
    "    for index in range(epochs):\n",
    "        print(\"Epoch\", index)\n",
    "        if index > 0:\n",
    "            T = tf(T)\n",
    "            length=itf(length)\n",
    "        tvars = []\n",
    "        #print(\"Temperature\", T, \"Length\", length)\n",
    "        for it in range(length):\n",
    "            total+=1\n",
    "            new_solution = proposalfunc(old_solution)\n",
    "            new_energy = cost(df.iloc[0,:],df.iloc[1,:],new_solution[0],new_solution[1])\n",
    "            # Use a min here as you could get a \"probability\" > 1\n",
    "            alpha = min(1, np.exp((old_energy - new_energy)/T))\n",
    "            if ((new_energy < old_energy) or (np.random.uniform() < alpha)):\n",
    "                # Accept proposed solution\n",
    "                accepted+=1\n",
    "                tvars.append(new_energy)\n",
    "                accumulator.append((T, new_solution, new_energy))\n",
    "                if new_energy < best_energy:\n",
    "                    # Replace previous best with this one\n",
    "                    best_energy = new_energy\n",
    "                    best_solution = new_solution\n",
    "                    best_index=total\n",
    "                    best_temp=T\n",
    "                old_energy = new_energy\n",
    "                old_solution = new_solution\n",
    "            else:\n",
    "                # Keep the old stuff\n",
    "                tvars.append(old_energy)\n",
    "                accumulator.append((T, old_solution, old_energy))\n",
    "        tcosts.append(tvars)\n",
    "    best_meta=dict(index=best_index, temp=best_temp)\n",
    "    print(\"frac accepted\", accepted/total, \"total iterations\", total, 'bmeta', best_meta)\n",
    "    return best_meta, best_solution, best_energy, accumulator,tcosts"
   ]
  },
  {
   "cell_type": "code",
   "execution_count": 6,
   "metadata": {
    "collapsed": false
   },
   "outputs": [
    {
     "name": "stdout",
     "output_type": "stream",
     "text": [
      "Epoch 0\n",
      "Epoch 1\n",
      "Epoch 2\n",
      "Epoch 3\n",
      "Epoch 4\n",
      "Epoch 5\n",
      "Epoch 6\n",
      "Epoch 7\n",
      "Epoch 8\n",
      "Epoch 9\n",
      "frac accepted 0.5649830612873422 total iterations 12988 bmeta {'index': 7789, 'temp': 2.097152000000001}\n"
     ]
    }
   ],
   "source": [
    "inits=dict(solution=[-5,0], length=500, T=10)\n",
    "bmeta, bs, be, out,tcosts = sa(inits, 10)"
   ]
  },
  {
   "cell_type": "markdown",
   "metadata": {},
   "source": [
    "Note: I used epochs as a stopping criteria since this was basically implemented by Rahul. Of course other conditions based on the lambda values could have been made but this does a relatively good job as we can see with the parameters below:"
   ]
  },
  {
   "cell_type": "code",
   "execution_count": 7,
   "metadata": {
    "collapsed": false
   },
   "outputs": [
    {
     "data": {
      "text/plain": [
       "(array([2.04971715, 0.00428278]), -9.934037504045136)"
      ]
     },
     "execution_count": 7,
     "metadata": {},
     "output_type": "execute_result"
    }
   ],
   "source": [
    "bs,be"
   ]
  },
  {
   "cell_type": "markdown",
   "metadata": {},
   "source": [
    "I have plotted the cost function below to get a sense of where this point is"
   ]
  },
  {
   "cell_type": "code",
   "execution_count": 8,
   "metadata": {
    "collapsed": true
   },
   "outputs": [],
   "source": [
    "lambda1 = np.linspace(-5,5,100)\n",
    "lambda2 = np.linspace(-5,5,100)\n",
    "\n",
    "Lval = np.zeros((lambda1.shape[0],lambda2.shape[0]))\n",
    "\n",
    "for i in range(len(lambda1)):\n",
    "    for j in range(len(lambda2)):\n",
    "        Lval[i,j] = np.sum(0.000045*lambda2[j]**2*df.iloc[1,:] - 0.000098*lambda1[i]**2*df.iloc[0,:] + 0.003926*lambda1[i]*df.iloc[0,:]*np.exp(-0.1*(lambda1[i]**2+lambda2[j]**2)))\n",
    "        "
   ]
  },
  {
   "cell_type": "code",
   "execution_count": 9,
   "metadata": {
    "collapsed": false,
    "scrolled": false
   },
   "outputs": [
    {
     "data": {
      "image/png": "[encoded data removed]",
      "text/plain": [
       "<matplotlib.figure.Figure at 0x1969dc17e48>"
      ]
     },
     "metadata": {},
     "output_type": "display_data"
    }
   ],
   "source": [
    "plt.figure(figsize=(10,8))\n",
    "plt.title(r'Net Loss w.r.t $\\lambda_1$ and $\\lambda_2$')\n",
    "plt.contourf(lambda1,lambda2,Lval)\n",
    "plt.colorbar()\n",
    "#plt.scatter(0,2.05384,c='r')\n",
    "plt.xlabel(u'$\\lambda_2$')\n",
    "plt.ylabel(u'$\\lambda_1$')\n",
    "jval = 10\n",
    "idx = 0\n",
    "# cols =['r','g','b','y','navy','o','pink','peru','dimgrey','mistyrose']\n",
    "# for i in range(len(out)):\n",
    "#     if out[i][0] == jval:\n",
    "#         plt.scatter(out[i][1][0],out[i][1][1],c=cols[idx])\n",
    "#     else:\n",
    "#         jval = out[i][0]\n",
    "#         idx+=1\n",
    "#         plt.scatter(out[i][1][0],out[i][1][1],c=cols[idx])"
   ]
  },
  {
   "cell_type": "markdown",
   "metadata": {},
   "source": [
    "Each plot here actually represents sampling from a boltzmann distribution (with a specific T) which is the stationary distribution of a markov chain (at each T we have a homogenous Markov Chain). What we are seeing is that at lower temperatures we tend to be highly distributed about the mean of the boltzmann so T is basically controlling the width, and hence allowing us to pick out this minimum."
   ]
  },
  {
   "cell_type": "code",
   "execution_count": 25,
   "metadata": {
    "collapsed": false,
    "scrolled": false
   },
   "outputs": [
    {
     "data": {
      "image/png": "[encoded data removed]",
      "text/plain": [
       "<matplotlib.figure.Figure at 0x266f18a89b0>"
      ]
     },
     "metadata": {},
     "output_type": "display_data"
    }
   ],
   "source": [
    "fig, axs = plt.subplots(2,5,figsize=(15,6), facecolor='w', edgecolor='k')\n",
    "fig.subplots_adjust(hspace = .5, wspace=1)\n",
    "\n",
    "axs = axs.ravel()\n",
    "T = 100/8\n",
    "for i in range(10):\n",
    "\n",
    "    axs[i].scatter(range(len(tcosts[i])),tcosts[i])\n",
    "    axs[i].set_xlabel('Iterations')\n",
    "    axs[i].set_ylabel('Cost')\n",
    "    axs[i].set_title('T = '+str(round(.8*T,2)))\n",
    "    T = .8*T\n"
   ]
  },
  {
   "cell_type": "markdown",
   "metadata": {},
   "source": [
    "## Problem 2: A Tired Salesman\n",
    "\n",
    "In the famous traveling salesman problem, the quality of the solution can be measured in \n",
    "different ways, beyond finding the shortest path.  For example, the total time of travel may also be important, and may depend on the means of transportation that connect pairs of \n",
    "cities.  Consider a random distribution of $N$ points on a plane representing the cities \n",
    "that must be visited by the traveling salesman.  Each point is an (x,y) coordinate where both x and y are integers in the range [1, 50). Assign a value $s_i$ where $i\\in [1,\\dots,N]$ to each city that represents its size measured by population.  Let $\\forall s_i, \\  s_i \\in [1, 10)$.  If two cities are farther away from each other than a **distance threshold of 10** and both have populations greater than a **population threshold of 5** assume there is a flight connection between them.  In all other cases assume that our poor salesman would have to drive between cities. Flying is faster than driving by a factor of 10. \n",
    "\n",
    "1. Use Simulated Annealing to find solutions to the traveling salesman problem for \n",
    "$N=100$, optimizing the travel path for the total distance travelled (but keeping track \n",
    "of the time of travel). \n",
    "\n",
    "2. Now redo the problem by optimizing the the path for the total time of travel (but keeping track of the distance traveled). Are the two solutions similar or different? \n",
    "\n",
    "3. How do your results change if the population and distance thresholds for the exisitence of a flight between two cities are altered?\n"
   ]
  },
  {
   "cell_type": "code",
   "execution_count": 2,
   "metadata": {
    "collapsed": true
   },
   "outputs": [],
   "source": [
    "#adapted from Rahul's code\n",
    "\n",
    "def alltours_tsp(cities):\n",
    "    \"Generate all possible tours of the cities and choose the shortest tour.\"\n",
    "    return shortest_tour(alltours(cities))\n",
    "\n",
    "def shortest_tour(tours): \n",
    "    \"Choose the tour with the minimum tour length.\"\n",
    "    return min(tours, key=tour_length)\n"
   ]
  },
  {
   "cell_type": "code",
   "execution_count": 3,
   "metadata": {
    "collapsed": true
   },
   "outputs": [],
   "source": [
    "def alltours(cities):\n",
    "    \"Return a list of tours, each a permutation of cities, but each one starting with the same city.\"\n",
    "    start = first(cities)\n",
    "    return [[start] + Tour(rest)\n",
    "            for rest in itertools.permutations(cities - {start})]\n",
    "\n",
    "def first(collection):\n",
    "    \"Start iterating over collection, and return the first element.\"\n",
    "    return next(iter(collection))\n",
    "\n",
    "Tour = list  # Tours are implemented as lists of cities"
   ]
  },
  {
   "cell_type": "code",
   "execution_count": 4,
   "metadata": {
    "collapsed": true
   },
   "outputs": [],
   "source": [
    "def tour_length(tour):\n",
    "    \"The total of distances between each pair of consecutive cities in the tour.\"\n",
    "    return sum(distance(tour[i], tour[i-1]) \n",
    "               for i in range(len(tour)))\n",
    "def tour_time(tour):\n",
    "    \"The total of distances between each pair of consecutive cities in the tour.\"\n",
    "    return sum(timer(tour[i], tour[i-1]) \n",
    "               for i in range(len(tour)))\n"
   ]
  },
  {
   "cell_type": "code",
   "execution_count": 5,
   "metadata": {
    "collapsed": false
   },
   "outputs": [
    {
     "name": "stdout",
     "output_type": "stream",
     "text": [
      "from builtins import property as _property, tuple as _tuple\n",
      "from operator import itemgetter as _itemgetter\n",
      "from collections import OrderedDict\n",
      "\n",
      "class City(tuple):\n",
      "    'City(x, y, pop)'\n",
      "\n",
      "    __slots__ = ()\n",
      "\n",
      "    _fields = ('x', 'y', 'pop')\n",
      "\n",
      "    def __new__(_cls, x, y, pop):\n",
      "        'Create new instance of City(x, y, pop)'\n",
      "        return _tuple.__new__(_cls, (x, y, pop))\n",
      "\n",
      "    @classmethod\n",
      "    def _make(cls, iterable, new=tuple.__new__, len=len):\n",
      "        'Make a new City object from a sequence or iterable'\n",
      "        result = new(cls, iterable)\n",
      "        if len(result) != 3:\n",
      "            raise TypeError('Expected 3 arguments, got %d' % len(result))\n",
      "        return result\n",
      "\n",
      "    def _replace(_self, **kwds):\n",
      "        'Return a new City object replacing specified fields with new values'\n",
      "        result = _self._make(map(kwds.pop, ('x', 'y', 'pop'), _self))\n",
      "        if kwds:\n",
      "            raise ValueError('Got unexpected field names: %r' % list(kwds))\n",
      "        return result\n",
      "\n",
      "    def __repr__(self):\n",
      "        'Return a nicely formatted representation string'\n",
      "        return self.__class__.__name__ + '(x=%r, y=%r, pop=%r)' % self\n",
      "\n",
      "    def _asdict(self):\n",
      "        'Return a new OrderedDict which maps field names to their values.'\n",
      "        return OrderedDict(zip(self._fields, self))\n",
      "\n",
      "    def __getnewargs__(self):\n",
      "        'Return self as a plain tuple.  Used by copy and pickle.'\n",
      "        return tuple(self)\n",
      "\n",
      "    x = _property(_itemgetter(0), doc='Alias for field number 0')\n",
      "\n",
      "    y = _property(_itemgetter(1), doc='Alias for field number 1')\n",
      "\n",
      "    pop = _property(_itemgetter(2), doc='Alias for field number 2')\n",
      "\n",
      "\n"
     ]
    }
   ],
   "source": [
    "# Cities are represented as Points, which are a subclass of complex numbers\n",
    "from collections import namedtuple\n",
    "\n",
    "City = namedtuple('City', ['x', 'y','pop'], verbose=True)"
   ]
  },
  {
   "cell_type": "code",
   "execution_count": 6,
   "metadata": {
    "collapsed": true
   },
   "outputs": [],
   "source": [
    "import math\n",
    "globaldist = 10\n",
    "globalpop = 5\n",
    "def distance(A, B): \n",
    "    \"The distance between two points.\"\n",
    "    return math.sqrt((A.x - B.x)*(A.x - B.x) + (A.y - B.y)*(A.y - B.y))\n",
    "\n",
    "def timer(A,B):\n",
    "    \"time to get between a and b\"\n",
    "    # assume unit speed on ground\n",
    "    tval=0\n",
    "    dist = math.sqrt((A.x - B.x)*(A.x - B.x) + (A.y - B.y)*(A.y - B.y))\n",
    "    if (dist>globaldist) and (A.pop>globalpop) and(B.pop>globalpop):\n",
    "        tval = dist/10\n",
    "    else:\n",
    "        tval = dist\n",
    "    return tval\n",
    " \n",
    "def Cities(n, width, height, seed=42):\n",
    "    \"Make a set of n cities, each with random coordinates within a (width x height) rectangle.\"\n",
    "    random.seed(seed * n)\n",
    "    np.random.seed(seed*n)\n",
    "    return frozenset(City(random.randrange(1,width), random.randrange(1,height),np.random.uniform(1,10))\n",
    "                     for c in range(n))\n",
    "\n",
    "def plot_tour(tour):\n",
    "    \"Plot the cities as circles and the tour as lines between them. Start city is red square.\"\n",
    "    start = tour[0]\n",
    "    plot_lines(list(tour) + [start])\n",
    "    plot_lines([start], 'rs') # Mark the start city with a red square\n",
    "    \n",
    "def plot_lines(points, style='bo-'):\n",
    "    \"Plot lines to connect a series of points.\"\n",
    "    plt.plot([p.x for p in points], [p.y for p in points], style)\n",
    "    plt.axis('scaled'); plt.axis('off')\n",
    "    \n",
    "def plot_tsp(algorithm, cities):\n",
    "    \"Apply a TSP algorithm to cities, plot the resulting tour, and print information.\"\n",
    "    # Find the solution and time how long it takes\n",
    "    t0 = time.clock()\n",
    "    tour = algorithm(cities)\n",
    "    t1 = time.clock()\n",
    "    assert valid_tour(tour, cities)\n",
    "    plot_tour(tour); plt.show()\n",
    "    print(\"{} city tour with length {:.1f} in {:.3f} secs for {}\"\n",
    "          .format(len(tour), tour_length(tour), t1 - t0, algorithm.__name__))\n",
    "    \n",
    "def valid_tour(tour, cities):\n",
    "    \"Is tour a valid tour for these cities?\"\n",
    "    return set(tour) == set(cities) and len(tour) == len(cities)"
   ]
  },
  {
   "cell_type": "code",
   "execution_count": 7,
   "metadata": {
    "collapsed": false
   },
   "outputs": [
    {
     "data": {
      "image/png": "[encoded data removed]",
      "text/plain": [
       "<matplotlib.figure.Figure at 0x13991d96b00>"
      ]
     },
     "metadata": {},
     "output_type": "display_data"
    }
   ],
   "source": [
    "mycities = Cities(100,50,50)\n",
    "plot_lines(mycities, 'bo')"
   ]
  },
  {
   "cell_type": "code",
   "execution_count": 8,
   "metadata": {
    "collapsed": true
   },
   "outputs": [],
   "source": [
    "def nn_tsp(cities):\n",
    "    \"\"\"Start the tour at the first city; at each step extend the tour \n",
    "    by moving from the previous city to the nearest neighboring city, C,\n",
    "    that has not yet been visited.\"\"\"\n",
    "    start = first(cities)\n",
    "    tour = [start]\n",
    "    unvisited = set(cities - {start})\n",
    "    while unvisited:\n",
    "        C = nearest_neighbor(tour[-1], unvisited)\n",
    "        tour.append(C)\n",
    "        unvisited.remove(C)\n",
    "    return tour\n",
    "\n",
    "def nearest_neighbor(A, cities):\n",
    "    \"Find the city in cities that is nearest to city A.\"\n",
    "    return min(cities, key=lambda c: distance(c, A))"
   ]
  },
  {
   "cell_type": "code",
   "execution_count": 9,
   "metadata": {
    "collapsed": true
   },
   "outputs": [],
   "source": [
    "# def reverse_segment(input_tour, i, j):\n",
    "#     \"Reverse segment tour[i:j] of a tour\" \n",
    "#     input_tour[i:j] = reversed(input_tour[i:j])\n",
    "\n",
    "def change_tour(input_tour):\n",
    "    \"Change a tour for tsp iteration\"\n",
    "    \n",
    "    #possible_indices = range(1, len(input_tour)) why not?\n",
    "    possible_indices = range(len(input_tour))\n",
    "    # take two random indices to swap\n",
    "    c1 = np.random.choice(possible_indices)\n",
    "    c2 = np.random.choice(possible_indices)\n",
    "    \n",
    "    new_tour = change_path(input_tour, c1, c2)\n",
    "    \n",
    "    return new_tour\n",
    "    \n",
    "    \n",
    "def swap_cities(input_tour, i, j):\n",
    "    \"Swap two cities at index i and j in a tour\"\n",
    "    \n",
    "    # save city1\n",
    "    city1 = input_tour[i]\n",
    "    \n",
    "    # save city2\n",
    "    city2 = input_tour[j]\n",
    "    \n",
    "    new_tour = input_tour.copy()\n",
    "    \n",
    "    # swap\n",
    "    new_tour[j] = city1\n",
    "    new_tour[i] = city2\n",
    "        \n",
    "    return new_tour\n",
    "    \n",
    "change_path = swap_cities  \n",
    "    "
   ]
  },
  {
   "cell_type": "code",
   "execution_count": 10,
   "metadata": {
    "collapsed": true
   },
   "outputs": [],
   "source": [
    "# We've constructed our own simulated annealing function for tsp but we don't\n",
    "# really need to make any changes.  So we'll just comment the regular sa :-)\n",
    "def sa_tsp(energyfunc,tracker, initials, epochs, tempfunc, iterfunc, proposalfunc):\n",
    "    \"\"\"\n",
    "    Run simulated annealing on a tsp.\n",
    "    \"\"\"\n",
    "    # Accumulate results in the same form as initals\n",
    "    accumulator=[]\n",
    "    \n",
    "    # time tracker\n",
    "    timer_vals = []\n",
    "    \n",
    "    # Our initial state is in initials['solution']\n",
    "    best_solution = old_solution = initials['solution']\n",
    "    \n",
    "    # Our initial temperature is in initials['T']\n",
    "    T=initials['T']\n",
    "    \n",
    "    # Our initial length (i.e. number of iterations per epoch)\n",
    "    # is in initals['length']\n",
    "    length=initials['length']\n",
    "    \n",
    "    # initialize the energy of our current state by running the \n",
    "    # energy function on our initial solution\n",
    "    best_energy = old_energy = energyfunc(old_solution)\n",
    "    \n",
    "    # keep track of accepted proposals and total iterations\n",
    "    accepted=0\n",
    "    total=0\n",
    "    \n",
    "    for index in range(epochs):\n",
    "        #print(\"Epoch\", index)\n",
    "        \n",
    "        # if we're past the first index, we need\n",
    "        # to update our cooling schedule and iteration\n",
    "        # schedule\n",
    "        if index > 0:\n",
    "            T = tempfunc(T)\n",
    "            length=iterfunc(length)\n",
    "            \n",
    "#         if index % 100 == 0:\n",
    "#             print(\"Temperature\", T, \"Length\", length)\n",
    "    \n",
    "        # run through the iterations for each epoch\n",
    "        for it in range(length):\n",
    "            \n",
    "            # keep track of total proposals\n",
    "            total+=1\n",
    "            \n",
    "            # get a new proposal and calculate its energy\n",
    "            new_solution = proposalfunc(old_solution)\n",
    "            new_energy = energyfunc(new_solution)\n",
    "            timing = tracker(new_solution)\n",
    "            # Use a min here as you could get a \"probability\" > 1\n",
    "            alpha = min(1, np.exp((old_energy - new_energy)/T))\n",
    "            if ((new_energy < old_energy) or (np.random.uniform() < alpha)):\n",
    "                \n",
    "                # Accept proposed solution\n",
    "                accepted+=1.0\n",
    "                accumulator.append((T, new_solution, new_energy,timing))\n",
    "                \n",
    "                # we have a new candidate for optimum (minimum)\n",
    "                if new_energy < best_energy:\n",
    "                    # Replace previous best with this one\n",
    "                    best_energy = new_energy\n",
    "                    best_solution = new_solution\n",
    "                    best_index=total\n",
    "                    best_temp=T\n",
    "                    best_tracker = timing\n",
    "                    \n",
    "                old_energy = new_energy\n",
    "                old_solution = new_solution\n",
    "            else:\n",
    "                # Keep the old stuff\n",
    "                accumulator.append((T, old_solution, old_energy,timing))\n",
    "    \n",
    "    best_meta=dict(index=best_index, temp=best_temp)\n",
    "#     print(\"frac accepted\", accepted/total, \"total iterations\", total, 'bmeta', best_meta)\n",
    "    return best_meta, best_solution, best_energy,best_tracker, accumulator"
   ]
  },
  {
   "cell_type": "markdown",
   "metadata": {},
   "source": [
    "#### 1. Optimizing Distance"
   ]
  },
  {
   "cell_type": "code",
   "execution_count": 12,
   "metadata": {
    "collapsed": false
   },
   "outputs": [
    {
     "data": {
      "text/plain": [
       "[City(x=10, y=17, pop=8.961283685888045),\n",
       " City(x=39, y=25, pop=9.40423351609434),\n",
       " City(x=14, y=4, pop=3.050789934801643),\n",
       " City(x=13, y=27, pop=1.1113505371818442),\n",
       " City(x=16, y=15, pop=8.065350486980424),\n",
       " City(x=48, y=30, pop=6.481500134850636),\n",
       " City(x=19, y=24, pop=9.61888308899489),\n",
       " City(x=10, y=31, pop=1.2164947518665046),\n",
       " City(x=31, y=22, pop=7.312491799854426),\n",
       " City(x=10, y=22, pop=3.0665472149427475),\n",
       " City(x=47, y=18, pop=5.5218790654002925),\n",
       " City(x=5, y=24, pop=1.2949083494141955),\n",
       " City(x=22, y=23, pop=1.0111130695368447),\n",
       " City(x=5, y=23, pop=5.140410509007243),\n",
       " City(x=12, y=24, pop=1.0840450972903737),\n",
       " City(x=32, y=45, pop=8.934554304429113),\n",
       " City(x=10, y=34, pop=9.175799249646154),\n",
       " City(x=8, y=5, pop=5.685521654153759),\n",
       " City(x=45, y=12, pop=4.814803823528739),\n",
       " City(x=36, y=15, pop=8.474538592126397),\n",
       " City(x=36, y=44, pop=5.064490378876271),\n",
       " City(x=7, y=14, pop=5.9279343750823585),\n",
       " City(x=27, y=24, pop=7.104747582916124),\n",
       " City(x=36, y=13, pop=5.982486849891396),\n",
       " City(x=10, y=7, pop=4.734311411806948),\n",
       " City(x=46, y=21, pop=3.8804203693218433),\n",
       " City(x=36, y=13, pop=7.579878294420364),\n",
       " City(x=29, y=6, pop=1.320876243532143),\n",
       " City(x=41, y=28, pop=4.098174788987499),\n",
       " City(x=37, y=17, pop=4.0478687195111895),\n",
       " City(x=25, y=3, pop=2.6358973986476673),\n",
       " City(x=21, y=29, pop=7.046748505363668),\n",
       " City(x=17, y=15, pop=1.6968791871188378),\n",
       " City(x=4, y=28, pop=6.151176524673315),\n",
       " City(x=15, y=3, pop=4.193580839380103),\n",
       " City(x=38, y=18, pop=1.109344860709362),\n",
       " City(x=21, y=34, pop=2.015697828305189),\n",
       " City(x=26, y=4, pop=3.988038777001941),\n",
       " City(x=5, y=35, pop=9.58845089323596),\n",
       " City(x=2, y=27, pop=5.519669982211149),\n",
       " City(x=12, y=18, pop=5.977809488876503),\n",
       " City(x=32, y=4, pop=3.5535748534708738),\n",
       " City(x=1, y=9, pop=5.4609941672736),\n",
       " City(x=32, y=15, pop=8.193014570686234),\n",
       " City(x=49, y=28, pop=8.006684669277284),\n",
       " City(x=5, y=4, pop=1.5384424118697142),\n",
       " City(x=1, y=21, pop=5.115909182663639),\n",
       " City(x=47, y=33, pop=5.412165909797416),\n",
       " City(x=32, y=40, pop=2.3778653928310725),\n",
       " City(x=39, y=17, pop=9.093037806533573),\n",
       " City(x=19, y=33, pop=1.176381361317684),\n",
       " City(x=32, y=38, pop=5.428302709571032),\n",
       " City(x=13, y=3, pop=4.874368580883761),\n",
       " City(x=9, y=3, pop=1.3465812910682666),\n",
       " City(x=49, y=47, pop=7.45377548360774),\n",
       " City(x=14, y=35, pop=2.5398047660060232),\n",
       " City(x=26, y=35, pop=8.526230132417304),\n",
       " City(x=40, y=13, pop=7.875727902379255),\n",
       " City(x=18, y=45, pop=5.721409672186634),\n",
       " City(x=31, y=25, pop=4.24965464651704),\n",
       " City(x=43, y=19, pop=6.75701055061429),\n",
       " City(x=43, y=11, pop=1.9975202392611051),\n",
       " City(x=33, y=9, pop=2.761586514359819),\n",
       " City(x=38, y=30, pop=6.797018823836363),\n",
       " City(x=25, y=33, pop=6.659158292285661),\n",
       " City(x=24, y=28, pop=4.549174987408172),\n",
       " City(x=21, y=1, pop=5.489050690091806),\n",
       " City(x=44, y=12, pop=9.73181652592932),\n",
       " City(x=28, y=18, pop=4.77701098214495),\n",
       " City(x=34, y=2, pop=6.366615685705472),\n",
       " City(x=27, y=31, pop=7.719903878189438),\n",
       " City(x=2, y=4, pop=9.813541472296658),\n",
       " City(x=11, y=15, pop=2.9011053392955253),\n",
       " City(x=36, y=10, pop=5.440265318744498),\n",
       " City(x=39, y=35, pop=9.444276098495138),\n",
       " City(x=15, y=29, pop=3.9690539357157117),\n",
       " City(x=17, y=29, pop=7.440593581850717),\n",
       " City(x=15, y=30, pop=3.104913380358526),\n",
       " City(x=28, y=20, pop=2.0421958215743756),\n",
       " City(x=44, y=30, pop=2.72063337961863),\n",
       " City(x=29, y=9, pop=6.673698753435873),\n",
       " City(x=47, y=45, pop=9.021133114252592),\n",
       " City(x=19, y=37, pop=5.036990053864609),\n",
       " City(x=41, y=14, pop=8.88887562172853),\n",
       " City(x=39, y=35, pop=7.612179349012495),\n",
       " City(x=34, y=36, pop=9.886111969286041),\n",
       " City(x=45, y=24, pop=9.531057984002826),\n",
       " City(x=33, y=25, pop=8.715293008735244),\n",
       " City(x=4, y=41, pop=2.407454453387366),\n",
       " City(x=47, y=2, pop=5.791265106077484),\n",
       " City(x=44, y=15, pop=9.27166234152065),\n",
       " City(x=32, y=26, pop=2.5298471677918104),\n",
       " City(x=40, y=16, pop=9.606901965248248),\n",
       " City(x=32, y=4, pop=6.638854467050552),\n",
       " City(x=5, y=39, pop=1.9474593173421837),\n",
       " City(x=47, y=30, pop=6.9375957182827435),\n",
       " City(x=8, y=19, pop=8.051210315332693),\n",
       " City(x=9, y=13, pop=5.5327879801291315),\n",
       " City(x=20, y=15, pop=6.485848658337534),\n",
       " City(x=40, y=22, pop=1.9883833493915344)]"
      ]
     },
     "execution_count": 12,
     "metadata": {},
     "output_type": "execute_result"
    }
   ],
   "source": [
    "list(mycities)"
   ]
  },
  {
   "cell_type": "code",
   "execution_count": 52,
   "metadata": {
    "collapsed": false,
    "scrolled": true
   },
   "outputs": [
    {
     "name": "stderr",
     "output_type": "stream",
     "text": [
      "c:\\users\\shaan desai\\anaconda3\\envs\\am207\\lib\\site-packages\\ipykernel_launcher.py:55: RuntimeWarning: overflow encountered in exp\n"
     ]
    }
   ],
   "source": [
    "initial_tour = list(mycities)\n",
    "length_func1 = lambda temperature: np.max((np.floor(np.sqrt(temperature)).astype(int),1))\n",
    "length_func2 = lambda length: max(int(math.ceil(1.2*length)), 10)\n",
    "length_func = length_func1\n",
    "temp_func = lambda t: 0.9*t\n",
    "init_length = length_func(10000)\n",
    "inits=dict(solution=initial_tour, length=init_length, T=50.0)\n",
    "bmeta, bs, be,be1, out = sa_tsp(tour_length,tour_time, inits, 100000, temp_func, length_func, change_tour);\n"
   ]
  },
  {
   "cell_type": "code",
   "execution_count": 53,
   "metadata": {
    "collapsed": false
   },
   "outputs": [
    {
     "data": {
      "text/plain": [
       "Text(0,0.5,'Distance')"
      ]
     },
     "execution_count": 53,
     "metadata": {},
     "output_type": "execute_result"
    },
    {
     "data": {
      "image/png": "[encoded data removed]",
      "text/plain": [
       "<matplotlib.figure.Figure at 0x1cf42f03e80>"
      ]
     },
     "metadata": {},
     "output_type": "display_data"
    }
   ],
   "source": [
    "plt.plot(range(len(out)),[e[2] for e in out], alpha=0.6, lw=2);\n",
    "plt.xscale('log')\n",
    "plt.xlabel('iteration')\n",
    "plt.ylabel('Distance')\n"
   ]
  },
  {
   "cell_type": "code",
   "execution_count": 54,
   "metadata": {
    "collapsed": false
   },
   "outputs": [
    {
     "name": "stdout",
     "output_type": "stream",
     "text": [
      "The minimum distance = 667.9122968403412\n"
     ]
    }
   ],
   "source": [
    "print('The minimum distance = %s' %(be))"
   ]
  },
  {
   "cell_type": "code",
   "execution_count": 55,
   "metadata": {
    "collapsed": false
   },
   "outputs": [
    {
     "data": {
      "text/plain": [
       "Text(0,0.5,'Time')"
      ]
     },
     "execution_count": 55,
     "metadata": {},
     "output_type": "execute_result"
    },
    {
     "data": {
      "image/png": "[encoded data removed]",
      "text/plain": [
       "<matplotlib.figure.Figure at 0x1cf3cb8e978>"
      ]
     },
     "metadata": {},
     "output_type": "display_data"
    }
   ],
   "source": [
    "plt.plot(range(len(out)),[e[3] for e in out], alpha=0.6, lw=2);\n",
    "plt.xscale('log')\n",
    "plt.xlabel('iteration')\n",
    "plt.ylabel('Time')\n"
   ]
  },
  {
   "cell_type": "markdown",
   "metadata": {},
   "source": [
    "#### 2. Optimizing for Time"
   ]
  },
  {
   "cell_type": "code",
   "execution_count": 56,
   "metadata": {
    "collapsed": false
   },
   "outputs": [
    {
     "name": "stderr",
     "output_type": "stream",
     "text": [
      "c:\\users\\shaan desai\\anaconda3\\envs\\am207\\lib\\site-packages\\ipykernel_launcher.py:55: RuntimeWarning: overflow encountered in exp\n"
     ]
    }
   ],
   "source": [
    "initial_tour = list(mycities)\n",
    "length_func1 = lambda temperature: np.max((np.floor(np.sqrt(temperature)).astype(int),1))\n",
    "length_func2 = lambda length: max(int(math.ceil(1.2*length)), 10)\n",
    "length_func = length_func1\n",
    "temp_func = lambda t: 0.9*t\n",
    "init_length = length_func(10000)\n",
    "inits=dict(solution=initial_tour, length=init_length, T=50.0)\n",
    "bmeta, bs, be,be1, out = sa_tsp(tour_time,tour_length, inits, 100000, temp_func, length_func, change_tour);\n"
   ]
  },
  {
   "cell_type": "code",
   "execution_count": 57,
   "metadata": {
    "collapsed": false
   },
   "outputs": [
    {
     "data": {
      "text/plain": [
       "Text(0,0.5,'Time')"
      ]
     },
     "execution_count": 57,
     "metadata": {},
     "output_type": "execute_result"
    },
    {
     "data": {
      "image/png": "[encoded data removed]",
      "text/plain": [
       "<matplotlib.figure.Figure at 0x1cf382fd550>"
      ]
     },
     "metadata": {},
     "output_type": "display_data"
    }
   ],
   "source": [
    "plt.plot(range(len(out)),[e[2] for e in out], alpha=0.6, lw=2);\n",
    "plt.xscale('log')\n",
    "plt.xlabel('iteration')\n",
    "plt.ylabel('Time')\n"
   ]
  },
  {
   "cell_type": "code",
   "execution_count": 58,
   "metadata": {
    "collapsed": false
   },
   "outputs": [
    {
     "data": {
      "text/plain": [
       "Text(0,0.5,'Distance')"
      ]
     },
     "execution_count": 58,
     "metadata": {},
     "output_type": "execute_result"
    },
    {
     "data": {
      "image/png": "[encoded data removed]",
      "text/plain": [
       "<matplotlib.figure.Figure at 0x1cf3c5f5208>"
      ]
     },
     "metadata": {},
     "output_type": "display_data"
    }
   ],
   "source": [
    "plt.plot(range(len(out)),[e[3] for e in out], alpha=0.6, lw=2);\n",
    "plt.xscale('log')\n",
    "plt.xlabel('iteration')\n",
    "plt.ylabel('Distance')\n"
   ]
  },
  {
   "cell_type": "markdown",
   "metadata": {
    "collapsed": true
   },
   "source": [
    "#### 3. Testing other parameters"
   ]
  },
  {
   "cell_type": "markdown",
   "metadata": {},
   "source": [
    "There are really 4 main edge cases to test:\n",
    "\n",
    "low dist low pop\n",
    "\n",
    "high dist low pop\n",
    "\n",
    "low dist high pop\n",
    "\n",
    "high dist high pop"
   ]
  },
  {
   "cell_type": "code",
   "execution_count": 59,
   "metadata": {
    "collapsed": true
   },
   "outputs": [],
   "source": [
    "dist_vals = [1,20,1,20]\n",
    "pop_vals = [1,1,8,8]"
   ]
  },
  {
   "cell_type": "code",
   "execution_count": 60,
   "metadata": {
    "collapsed": false
   },
   "outputs": [
    {
     "name": "stderr",
     "output_type": "stream",
     "text": [
      "c:\\users\\shaan desai\\anaconda3\\envs\\am207\\lib\\site-packages\\ipykernel_launcher.py:55: RuntimeWarning: overflow encountered in exp\n"
     ]
    }
   ],
   "source": [
    "length_func1 = lambda temperature: np.max((np.floor(np.sqrt(temperature)).astype(int),1))\n",
    "length_func = length_func1\n",
    "temp_func = lambda t: 0.9*t\n",
    "# cols are dist and time\n",
    "storage_opt_dist = np.zeros((4,2))\n",
    "storage_opt_time = np.zeros((4,2))\n",
    "    \n",
    "for looper in range(4):\n",
    "    # optimizing tour time\n",
    "    globaldist = dist_vals[looper]\n",
    "    globalpop = pop_vals[looper]\n",
    "    initial_tour = list(mycities)\n",
    "    init_length = length_func(10000)\n",
    "    inits=dict(solution=initial_tour, length=init_length, T=50.0)\n",
    "    #optimize the distance!\n",
    "    bmeta, bs, be,be1, out = sa_tsp(tour_length,tour_time, inits, 100000, temp_func, length_func, change_tour);\n",
    "    storage_opt_dist[looper,0] = be\n",
    "    storage_opt_dist[looper,1] = be1\n",
    "    #optimize the time!\n",
    "    bmeta, bs, be,be1, out = sa_tsp(tour_time,tour_length, inits, 100000, temp_func, length_func, change_tour);\n",
    "    storage_opt_time[looper,0] = be1\n",
    "    storage_opt_time[looper,1] = be\n",
    "    "
   ]
  },
  {
   "cell_type": "code",
   "execution_count": 74,
   "metadata": {
    "collapsed": false
   },
   "outputs": [
    {
     "data": {
      "text/plain": [
       "<seaborn.axisgrid.FacetGrid at 0x1cf49dec710>"
      ]
     },
     "execution_count": 74,
     "metadata": {},
     "output_type": "execute_result"
    },
    {
     "data": {
      "image/png": "[encoded data removed]",
      "text/plain": [
       "<matplotlib.figure.Figure at 0x1cf4bb0dac8>"
      ]
     },
     "metadata": {},
     "output_type": "display_data"
    }
   ],
   "source": [
    "import pandas as pd\n",
    "import matplotlib.pylab as plt\n",
    "import seaborn as sns\n",
    " \n",
    "# Create dataframe\n",
    "df = pd.DataFrame({\n",
    "'dist': storage_opt_dist[:,0].tolist(),\n",
    "'time': storage_opt_dist[:,1].tolist(),\n",
    "'group': ['d=1,p=1','d=20,p=1','d=1,p=8','d=20,p=8']\n",
    "})\n",
    " \n",
    "sns.lmplot(data=df, x=\"dist\", y=\"time\", fit_reg=False, hue='group')\n",
    "#sns.plt.show()\n"
   ]
  },
  {
   "cell_type": "code",
   "execution_count": 75,
   "metadata": {
    "collapsed": false
   },
   "outputs": [
    {
     "data": {
      "text/plain": [
       "<seaborn.axisgrid.FacetGrid at 0x1cf51d98748>"
      ]
     },
     "execution_count": 75,
     "metadata": {},
     "output_type": "execute_result"
    },
    {
     "data": {
      "image/png": "[encoded data removed]",
      "text/plain": [
       "<matplotlib.figure.Figure at 0x1cf51d4b9e8>"
      ]
     },
     "metadata": {},
     "output_type": "display_data"
    }
   ],
   "source": [
    "# Create dataframe\n",
    "df = pd.DataFrame({\n",
    "'dist': storage_opt_time[:,0].tolist(),\n",
    "'time': storage_opt_time[:,1].tolist(),\n",
    "'group': ['d=1,p=1','d=20,p=1','d=1,p=8','d=20,p=8']\n",
    "})\n",
    " \n",
    "sns.lmplot(data=df, x=\"dist\", y=\"time\", fit_reg=False, hue='group')\n",
    "#sns.plt.show()\n"
   ]
  },
  {
   "cell_type": "markdown",
   "metadata": {},
   "source": [
    "The first graph above shows the distance and time plot for the minimas found given the group parameters using distance as the cost function. The second graph shows us the same situation except we use the time as the cost function. \n",
    "\n",
    "The key takeaway is that depending on which flights you travel on and what sets those conditions, you have a range of different optima in the time and distance domain. Simulated Annealing can help us tune these parameters and see how the optimas change!"
   ]
  },
  {
   "cell_type": "code",
   "execution_count": null,
   "metadata": {
    "collapsed": true
   },
   "outputs": [],
   "source": []
  }
 ],
 "metadata": {
  "anaconda-cloud": {},
  "kernel_info": {
   "name": "python3"
  },
  "kernelspec": {
   "display_name": "Python 3",
   "language": "python",
   "name": "python3"
  },
  "language_info": {
   "codemirror_mode": {
    "name": "ipython",
    "version": 3
   },
   "file_extension": ".py",
   "mimetype": "text/x-python",
   "name": "python",
   "nbconvert_exporter": "python",
   "pygments_lexer": "ipython3",
   "version": "3.6.4"
  },
  "nteract": {
   "version": "0.7.1"
  }
 },
 "nbformat": 4,
 "nbformat_minor": 1
}
