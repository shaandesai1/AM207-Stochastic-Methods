{
 "cells": [
  {
   "cell_type": "markdown",
   "metadata": {},
   "source": [
    "# APMTH 207: Advanced Scientific Computing: \n",
    "## Stochastic Methods for Data Analysis, Inference and Optimization\n",
    "## Homework 10\n",
    "**Harvard University**<br>\n",
    "**Spring 2018**<br>\n",
    "**Instructors: Rahul Dave**<br>\n",
    "**Due Date: ** Friday, April 13th, 2018 at 10:59am\n",
    "\n",
    "**Instructions:**\n",
    "\n",
    "- Upload your final answers as an iPython notebook containing all work to Canvas.\n",
    "\n",
    "- Structure your notebook and your work to maximize readability."
   ]
  },
  {
   "cell_type": "markdown",
   "metadata": {},
   "source": [
    "## Problem #1: Iris Eyes Are Smiling\n",
    "\n",
    "This Homework problem is a continuation of Problem #4 from Homework 8.  We'll be using the same iris dataset. The iris data can be obtained [here](./iris.csv).\n",
    "\n",
    "Now that we have from Homework 8 Problem #4 a train-test split as well as point estimate(s) and a posterior distribution on the probability of a data point being virginica, we can use these to make predictions on both the training set and test set.\n",
    "\n",
    "** *Note this next section is just guidance and doesn't contain any work for you to do* **\n",
    "\n",
    "*There are two ways to make these predictions, given an estimate of $p(y=1\\ \\vert\\ x)$:* \n",
    "\n",
    "(A) You can sample from the Bernoulli likelihood at the data point $x$ to decide if that particular data points classification $y(x)$ should be a 1 or a 0.\n",
    "\n",
    "(B) Or you could do the intuitive \"machine-learning-decision-theoretic\" (MLDT) thing, where you assign a data  point $x$ a classification 1 if $p(y=1 \\vert x) > 0.5$.\n",
    "\n",
    "*There are multiple ways in which you can do these probability estimates at a sample $x$:*\n",
    "\n",
    "(A) You can just use a point estimate like the MAP value, ($p_{MAP}$), or the posterior mean ($p_{MEAN}$)\n",
    "\n",
    "(B) You can see what fraction of your posterior samples have values above 0.5 (ie you are calculating 1-cdf(0.5)) on the posterior ($p_{CDF}$))\n",
    "\n",
    "Both these above methods miss the combined smearing of the posterior and sampling distributions. In other words they dont sample from the posterior predictive. If we draw a large number of samples from the posterior predictive distribution at a data point $x$, the fraction of 1s will give an estimate for the probability to use, $p_{PP}$, which is different from the MAP estimate, or the CDF estimate.\n",
    "\n",
    "** *Note this next section contains the tasks we expect you to complete* **\n",
    "\n",
    "\n",
    "1. Plot the distribution of $p_{MEAN}$, $p_{CDF}$, and $p_{PP}$ over all the data points in the training set. How are these different?\n",
    "2. Plot the posterior-predictive distribution of the misclassification rate with respect to the true class identities $y(x)$ of the data points $x$ (in other words you are plotting a histogram with the misclassification rate for the $n_{trace}$ posterior-predictive samples) on the training set.\n",
    "3. Make the same plot from the posterior, rather than the posterior predictive, by using the MLDT defined above. Overlay this plot on the previous one. That is, for every posterior sample, consider whether the data point ought to be classified as a 1 or 0 from the $p>0.5 \\implies y=1$ decision theoretic prespective. Compare with your previous diagram. Which case (from posterior-predictive or from-posterior) has a wider mis-classification distribution? \n",
    "4. Is the classification at the true training data points (you can think of this as a bitstring '100101...' 90 characters long) represented in the posterior predictive trace? If so, how many times? Is it the most frequent string in the traces? Explain your conclusions.\n",
    "5. Repeat 2 and 3 for the test set, i.e. make predictions. Describe and interpret the widths of the distributions?\n"
   ]
  },
  {
   "cell_type": "code",
   "execution_count": 2,
   "metadata": {},
   "outputs": [
    {
     "name": "stderr",
     "output_type": "stream",
     "text": [
      "WARNING (theano.tensor.blas): Using NumPy C-API based implementation for BLAS functions.\n",
      "C:\\Users\\Shaan Desai\\Anaconda3\\envs\\am207\\lib\\site-packages\\h5py\\__init__.py:36: FutureWarning: Conversion of the second argument of issubdtype from `float` to `np.floating` is deprecated. In future, it will be treated as `np.float64 == np.dtype(float).type`.\n",
      "  from ._conv import register_converters as _register_converters\n"
     ]
    }
   ],
   "source": [
    "import numpy as np\n",
    "import matplotlib.pyplot as plt\n",
    "import pandas as pd\n",
    "import pymc3 as pm\n",
    "import seaborn as sns\n",
    "import pandas as pd\n",
    "from sklearn.model_selection import train_test_split"
   ]
  },
  {
   "cell_type": "code",
   "execution_count": null,
   "metadata": {
    "scrolled": true
   },
   "outputs": [
    {
     "name": "stderr",
     "output_type": "stream",
     "text": [
      "Auto-assigning NUTS sampler...\n",
      "Initializing NUTS using jitter+adapt_diag...\n",
      "C:\\Users\\Shaan Desai\\Anaconda3\\envs\\am207\\lib\\site-packages\\pymc3\\model.py:384: FutureWarning: Conversion of the second argument of issubdtype from `float` to `np.floating` is deprecated. In future, it will be treated as `np.float64 == np.dtype(float).type`.\n",
      "  if not np.issubdtype(var.dtype, float):\n",
      "Multiprocess sampling (2 chains in 2 jobs)\n",
      "NUTS: [beta]\n"
     ]
    }
   ],
   "source": [
    "df = pd.read_csv('iris.csv')\n",
    "df['class'] = (df['class'] == ' Iris-virginica')*1\n",
    "X_train, X_test, y_train, y_test = train_test_split(df.iloc[:,0:4], df.iloc[:,4], test_size=0.4, random_state=42,stratify=df.iloc[:,4])\n",
    "X_train['intercept'] = 1\n",
    "X_test['intercept']= 1\n",
    "from pymc3 import Normal, Bernoulli, sample, Model # Import relevant distributions\n",
    "from pymc3.math import invlogit\n",
    "from theano import shared\n",
    "\n",
    "xshared = shared(X_train.values)\n",
    "\n",
    "with Model() as iris:\n",
    "\n",
    "    beta = pm.Normal('beta', 0, sd=10,shape=5)\n",
    "    \n",
    "    # Calculate probabilities of death\n",
    "    pvals = pm.Deterministic('pvals',var=pm.math.sigmoid( pm.math.dot(beta,xshared.T)))\n",
    "\n",
    "    # Data likelihood\n",
    "    flower_type = pm.Bernoulli('flower_type', p=pvals, observed=y_train.values)\n",
    "    trace = pm.sample(10000)"
   ]
  },
  {
   "cell_type": "markdown",
   "metadata": {},
   "source": [
    "#### Question 1"
   ]
  },
  {
   "cell_type": "code",
   "execution_count": 104,
   "metadata": {},
   "outputs": [],
   "source": [
    "#to obtain pCDF\n",
    "newtrace = trace['pvals']"
   ]
  },
  {
   "cell_type": "code",
   "execution_count": 105,
   "metadata": {
    "scrolled": false
   },
   "outputs": [],
   "source": [
    "newtrace[newtrace>0.5] = 1\n",
    "newtrace[newtrace<0.5] = 0 "
   ]
  },
  {
   "cell_type": "code",
   "execution_count": 106,
   "metadata": {},
   "outputs": [
    {
     "name": "stderr",
     "output_type": "stream",
     "text": [
      "100%|██████████████████████████████████████████████████████████████████████████████| 500/500 [00:00<00:00, 1377.30it/s]\n"
     ]
    }
   ],
   "source": [
    "#to obtain pp\n",
    "ppc_samples = pm.sample_ppc(trace,samples=500,model = iris)"
   ]
  },
  {
   "cell_type": "code",
   "execution_count": 107,
   "metadata": {},
   "outputs": [
    {
     "data": {
      "text/plain": [
       "(500, 90)"
      ]
     },
     "execution_count": 107,
     "metadata": {},
     "output_type": "execute_result"
    }
   ],
   "source": [
    "ppc_samples['flower_type'].shape"
   ]
  },
  {
   "cell_type": "code",
   "execution_count": 108,
   "metadata": {
    "scrolled": false
   },
   "outputs": [
    {
     "name": "stderr",
     "output_type": "stream",
     "text": [
      "C:\\Users\\Shaan Desai\\Anaconda3\\envs\\am207\\lib\\site-packages\\matplotlib\\axes\\_axes.py:6462: UserWarning: The 'normed' kwarg is deprecated, and has been replaced by the 'density' kwarg.\n",
      "  warnings.warn(\"The 'normed' kwarg is deprecated, and has been \"\n"
     ]
    },
    {
     "data": {
      "text/plain": [
       "<matplotlib.legend.Legend at 0x22857cdc4e0>"
      ]
     },
     "execution_count": 108,
     "metadata": {},
     "output_type": "execute_result"
    },
    {
     "data": {
      "image/png": "[encoded data removed]",
      "text/plain": [
       "<Figure size 432x288 with 1 Axes>"
      ]
     },
     "metadata": {},
     "output_type": "display_data"
    }
   ],
   "source": [
    "plt.figure()\n",
    "sns.distplot(np.mean(trace['pvals'],axis=0),label='mean',bins=10)\n",
    "sns.distplot(np.sum(newtrace,axis=0)/newtrace.shape[0],label='cdf',bins=10)\n",
    "sns.distplot(np.sum(ppc_samples['flower_type'],axis=0)/ppc_samples['flower_type'].shape[0],label='pp',bins=10)\n",
    "plt.xlabel('probabilities')\n",
    "plt.ylabel('count')\n",
    "plt.legend()"
   ]
  },
  {
   "cell_type": "markdown",
   "metadata": {},
   "source": [
    "The mean distribution has the most spread and the CDF has very little. The posterior predictive lies at the intersection of the two."
   ]
  },
  {
   "cell_type": "markdown",
   "metadata": {},
   "source": [
    "#### Question 2"
   ]
  },
  {
   "cell_type": "code",
   "execution_count": 109,
   "metadata": {},
   "outputs": [
    {
     "name": "stderr",
     "output_type": "stream",
     "text": [
      "C:\\Users\\Shaan Desai\\Anaconda3\\envs\\am207\\lib\\site-packages\\matplotlib\\axes\\_axes.py:6462: UserWarning: The 'normed' kwarg is deprecated, and has been replaced by the 'density' kwarg.\n",
      "  warnings.warn(\"The 'normed' kwarg is deprecated, and has been \"\n"
     ]
    },
    {
     "data": {
      "text/plain": [
       "Text(0,0.5,'count')"
      ]
     },
     "execution_count": 109,
     "metadata": {},
     "output_type": "execute_result"
    },
    {
     "data": {
      "image/png": "[encoded data removed]",
      "text/plain": [
       "<Figure size 432x288 with 1 Axes>"
      ]
     },
     "metadata": {},
     "output_type": "display_data"
    }
   ],
   "source": [
    "plt.hist(np.sum(np.abs(ppc_samples['flower_type']-y_train.values),axis=0)/ppc_samples['flower_type'].shape[0],normed=True);\n",
    "\n",
    "plt.xlabel('misclassification rate')\n",
    "plt.ylabel('count')"
   ]
  },
  {
   "cell_type": "markdown",
   "metadata": {},
   "source": [
    "#### Question 3"
   ]
  },
  {
   "cell_type": "code",
   "execution_count": 110,
   "metadata": {},
   "outputs": [
    {
     "name": "stderr",
     "output_type": "stream",
     "text": [
      "C:\\Users\\Shaan Desai\\Anaconda3\\envs\\am207\\lib\\site-packages\\matplotlib\\axes\\_axes.py:6462: UserWarning: The 'normed' kwarg is deprecated, and has been replaced by the 'density' kwarg.\n",
      "  warnings.warn(\"The 'normed' kwarg is deprecated, and has been \"\n"
     ]
    },
    {
     "data": {
      "text/plain": [
       "Text(0,0.5,'count')"
      ]
     },
     "execution_count": 110,
     "metadata": {},
     "output_type": "execute_result"
    },
    {
     "data": {
      "image/png": "[encoded data removed]",
      "text/plain": [
       "<Figure size 432x288 with 1 Axes>"
      ]
     },
     "metadata": {},
     "output_type": "display_data"
    }
   ],
   "source": [
    "plt.hist(np.sum(np.abs(ppc_samples['flower_type']-y_train.values),axis=0)/ppc_samples['flower_type'].shape[0],normed=True,bins=10,label='pp');\n",
    "plt.hist(np.sum(np.abs(newtrace-y_train.values),axis=0)/newtrace.shape[0],normed=True,bins=10,label='p');\n",
    "plt.legend()\n",
    "plt.xlabel('misclassification rate')\n",
    "plt.ylabel('count')"
   ]
  },
  {
   "cell_type": "markdown",
   "metadata": {},
   "source": [
    "The posterior has a wider misclassification distribution since the probability variances are much higher when considering the posterior over the posterior predictive."
   ]
  },
  {
   "cell_type": "markdown",
   "metadata": {},
   "source": [
    "#### Question 4"
   ]
  },
  {
   "cell_type": "code",
   "execution_count": 111,
   "metadata": {},
   "outputs": [
    {
     "name": "stdout",
     "output_type": "stream",
     "text": [
      "number of times true y appears = 0.202\n"
     ]
    }
   ],
   "source": [
    "print('number of times true y appears = %s' %(np.sum(np.sum(ppc_samples['flower_type']-y_train.values,axis=1) == 0)/500))"
   ]
  },
  {
   "cell_type": "code",
   "execution_count": 114,
   "metadata": {},
   "outputs": [
    {
     "data": {
      "image/png": "[encoded data removed]",
      "text/plain": [
       "<Figure size 432x288 with 1 Axes>"
      ]
     },
     "metadata": {},
     "output_type": "display_data"
    }
   ],
   "source": [
    "plt.hist(np.sum(ppc_samples['flower_type']-y_train.values,axis=1),bins=20);"
   ]
  },
  {
   "cell_type": "markdown",
   "metadata": {},
   "source": [
    "I get that this string of true values is represented in our data approximately 22$\\%$ of the time and it is indeed the most frequent string in our posterior predictive when I run many samples! If the posterior predictive is good, the mean should be comparable to the true data. "
   ]
  },
  {
   "cell_type": "markdown",
   "metadata": {},
   "source": [
    "#### Question 5`"
   ]
  },
  {
   "cell_type": "code",
   "execution_count": 115,
   "metadata": {},
   "outputs": [
    {
     "name": "stderr",
     "output_type": "stream",
     "text": [
      "C:\\Users\\Shaan Desai\\Anaconda3\\envs\\am207\\lib\\site-packages\\matplotlib\\axes\\_axes.py:6462: UserWarning: The 'normed' kwarg is deprecated, and has been replaced by the 'density' kwarg.\n",
      "  warnings.warn(\"The 'normed' kwarg is deprecated, and has been \"\n"
     ]
    },
    {
     "data": {
      "text/plain": [
       "Text(0,0.5,'count')"
      ]
     },
     "execution_count": 115,
     "metadata": {},
     "output_type": "execute_result"
    },
    {
     "data": {
      "image/png": "[encoded data removed]",
      "text/plain": [
       "<Figure size 432x288 with 1 Axes>"
      ]
     },
     "metadata": {},
     "output_type": "display_data"
    }
   ],
   "source": [
    "import math\n",
    "\n",
    "def sigmoid(x):\n",
    "    return 1 / (1 + np.exp(-x))\n",
    "#find posteriors at x_test values\n",
    "post_test = sigmoid( np.dot(trace['beta'],X_test.values.T))\n",
    "newtrace = post_test\n",
    "newtrace[newtrace>0.5] = 1\n",
    "newtrace[newtrace<0.5] = 0  \n",
    "plt.hist(np.sum(np.abs(newtrace-y_test.values),axis=0)/newtrace.shape[0],normed=True,bins=10,label='p');\n",
    "plt.legend()\n",
    "plt.xlabel('misclassification rate')\n",
    "plt.ylabel('count')"
   ]
  },
  {
   "cell_type": "code",
   "execution_count": 116,
   "metadata": {},
   "outputs": [
    {
     "name": "stderr",
     "output_type": "stream",
     "text": [
      "100%|██████████████████████████████████████████████████████████████████████████████| 500/500 [00:00<00:00, 1419.28it/s]\n"
     ]
    }
   ],
   "source": [
    "xshared.set_value(X_test.values)\n",
    "ppc_samples = pm.sample_ppc(trace,samples=500,model = iris)"
   ]
  },
  {
   "cell_type": "code",
   "execution_count": 117,
   "metadata": {
    "scrolled": false
   },
   "outputs": [
    {
     "name": "stderr",
     "output_type": "stream",
     "text": [
      "C:\\Users\\Shaan Desai\\Anaconda3\\envs\\am207\\lib\\site-packages\\matplotlib\\axes\\_axes.py:6462: UserWarning: The 'normed' kwarg is deprecated, and has been replaced by the 'density' kwarg.\n",
      "  warnings.warn(\"The 'normed' kwarg is deprecated, and has been \"\n"
     ]
    },
    {
     "data": {
      "text/plain": [
       "Text(0,0.5,'count')"
      ]
     },
     "execution_count": 117,
     "metadata": {},
     "output_type": "execute_result"
    },
    {
     "data": {
      "image/png": "[encoded data removed]",
      "text/plain": [
       "<Figure size 432x288 with 1 Axes>"
      ]
     },
     "metadata": {},
     "output_type": "display_data"
    }
   ],
   "source": [
    "plt.hist(np.sum(np.abs(ppc_samples['flower_type']-y_test.values),axis=0)/ppc_samples['flower_type'].shape[0],normed=True);\n",
    "plt.xlabel('misclassification rate')\n",
    "plt.ylabel('count')"
   ]
  },
  {
   "cell_type": "code",
   "execution_count": 118,
   "metadata": {},
   "outputs": [
    {
     "name": "stderr",
     "output_type": "stream",
     "text": [
      "C:\\Users\\Shaan Desai\\Anaconda3\\envs\\am207\\lib\\site-packages\\matplotlib\\axes\\_axes.py:6462: UserWarning: The 'normed' kwarg is deprecated, and has been replaced by the 'density' kwarg.\n",
      "  warnings.warn(\"The 'normed' kwarg is deprecated, and has been \"\n"
     ]
    },
    {
     "data": {
      "text/plain": [
       "Text(0,0.5,'count')"
      ]
     },
     "execution_count": 118,
     "metadata": {},
     "output_type": "execute_result"
    },
    {
     "data": {
      "image/png": "[encoded data removed]",
      "text/plain": [
       "<Figure size 432x288 with 1 Axes>"
      ]
     },
     "metadata": {},
     "output_type": "display_data"
    }
   ],
   "source": [
    "plt.hist(np.sum(np.abs(ppc_samples['flower_type']-y_test.values),axis=0)/ppc_samples['flower_type'].shape[0],normed=True,bins=10,label='pp');\n",
    "plt.hist(np.sum(np.abs(newtrace-y_test.values),axis=0)/newtrace.shape[0],normed=True,bins=10,label='p');\n",
    "plt.legend()\n",
    "plt.xlabel('misclassification rate')\n",
    "plt.ylabel('count')"
   ]
  },
  {
   "cell_type": "markdown",
   "metadata": {},
   "source": [
    "Note that while the posterior is wider than the posterior predictive (just as it was on the training set), the test points cause the misclassification rate to be even wider. This is because there is uncertainty associated with data at the test points and so the results make sense: test points should have a wider misclassification width than train points."
   ]
  },
  {
   "cell_type": "markdown",
   "metadata": {},
   "source": [
    "## Problem 2: From the Ritz to the Rubble\n",
    "\n",
    "In this problem, much like in Long Homework 9, you will explore how to recast data, tasks and research questions from a variety of different contexts so that an existing model can be applied for analysis.\n",
    "\n",
    "Example 10.1.3 in \"Statistical Rethinking\", the excerpt of which is included in the data directory for this assignment, illustrates a study of the effect of an applicant's gender on graduate school admissions to six U.C. Berkeley departments through a comparison of four models. \n",
    "\n",
    "In this problem, you are given the data for the 1994 U.S. Census. The data has been processed so that only a subset of the features are present (for full dataset as well as the description see the [UCI Machine Learning Repository](http://archive.ics.uci.edu/ml/datasets/Census+Income)). You will be investigate the effect of gender on a person's yearly income in the dataset. In particular, we want to know how a person's gender effect the likelihood of their yearly salary being above or below \\$50k. \n",
    "\n",
    "First we want to aggregate the dataset by seven different categories. The categories we wish to consider are: \n",
    "- 4 year college degree\n",
    "- Some-college or two year academic college degree\n",
    "- High school\n",
    "- Professional, vocational school\n",
    "- Masters \n",
    "- Doctorate\n",
    "- Some or no high school\n",
    "Note that you might have to combine some of the existing education categories in your dataframe. For each category, we suggest that you only keep track of a count of the number of males and females who make above (and resp. below) $50k (see the dataset in Example 10.1.3). \n",
    "\n",
    "Following Example 10.1.3, build two models for the classification of an individual's yearly income (1 being above \\$50k and 0 being below), one of these models should include the effect of gender while the other should not. \n",
    "\n",
    "Replicate the analysis in 10.1.3 using your models; specifically, compute= wAIC scores and make a plot like Figure 10.5 (posterior check) to see how well your models fits the data. Using your analysis, discuss the effect of gender on income.\n",
    "\n",
    "Following Example 10.1.3, build two models for the classification of an individual's yearly income taking into account education. \n",
    "\n",
    "Replicate the analysis in 10.1.3 using your models; specifically, compute AIC/BIC scores and make a plot like Figure 10.6 (posterior check) to see how well your model fits the data. Using your analysis, discuss the effect of gender on income, taking into account an individual's education."
   ]
  },
  {
   "cell_type": "code",
   "execution_count": 3,
   "metadata": {},
   "outputs": [],
   "source": [
    "df = pd.read_csv('census_data.csv')\n",
    "df.drop('Unnamed: 0',axis=1,inplace=True)"
   ]
  },
  {
   "cell_type": "code",
   "execution_count": 4,
   "metadata": {},
   "outputs": [
    {
     "data": {
      "text/plain": [
       "dict_keys(['10th', '11th', '12th', '1st-4th', '5th-6th', '7th-8th', '9th', 'Assoc-acdm', 'Assoc-voc', 'Bachelors', 'Doctorate', 'HS-grad', 'Masters', 'Preschool', 'Prof-school', 'Some-college'])"
      ]
     },
     "execution_count": 4,
     "metadata": {},
     "output_type": "execute_result"
    }
   ],
   "source": [
    "g = df.groupby('edu')\n",
    "\n",
    "g.groups.keys()"
   ]
  },
  {
   "cell_type": "markdown",
   "metadata": {},
   "source": [
    "Within the categories of interest the following apply:\n",
    "    \n",
    "4 year college degree : {Bachelors}\n",
    "\n",
    "Some-college/2year program: {Assoc-acdm,Assoc-voc,Some-college}\n",
    "\n",
    "High School : {HS-grad}\n",
    "\n",
    "Professional School : {Prof-school}\n",
    "\n",
    "Masters : {Masters}\n",
    "\n",
    "Doctorate : {Doctorate}\n",
    "\n",
    "Some or no HS: {10th,11th,12th,1st-4th,5th-6th,7th-8th,9th,'Preschool'}"
   ]
  },
  {
   "cell_type": "code",
   "execution_count": 5,
   "metadata": {},
   "outputs": [],
   "source": [
    "maindf = pd.DataFrame(columns=['group','gender','above 50','below 50', 'total'])"
   ]
  },
  {
   "cell_type": "code",
   "execution_count": 6,
   "metadata": {},
   "outputs": [],
   "source": [
    "# get groups\n",
    "groups = [['Bachelors'],['Assoc-acdm','Assoc-voc','Some-college'],['HS-grad'],['Prof-school'],['Masters'],['Doctorate'],['10th','11th','12th','1st-4th','5th-6th','7th-8th','9th','Preschool']]\n",
    "sexes = ['Male','Female']\n",
    "for i in range(len(groups)):\n",
    "    for j in range(len(sexes)):\n",
    "        bfifty = df.loc[df['edu'].isin(groups[i])&(df['sex']==sexes[j])&(df['earning']=='<=50K')]\n",
    "        afifty = df.loc[df['edu'].isin(groups[i])&(df['sex']==sexes[j])&(df['earning']=='>50K')]\n",
    "        maindf.loc[len(maindf)] = [str(i),sexes[j],len(afifty),len(bfifty),len(afifty)+len(bfifty)]"
   ]
  },
  {
   "cell_type": "code",
   "execution_count": 7,
   "metadata": {},
   "outputs": [
    {
     "data": {
      "text/html": [
       "<div>\n",
       "<style scoped>\n",
       "    .dataframe tbody tr th:only-of-type {\n",
       "        vertical-align: middle;\n",
       "    }\n",
       "\n",
       "    .dataframe tbody tr th {\n",
       "        vertical-align: top;\n",
       "    }\n",
       "\n",
       "    .dataframe thead th {\n",
       "        text-align: right;\n",
       "    }\n",
       "</style>\n",
       "<table border=\"1\" class=\"dataframe\">\n",
       "  <thead>\n",
       "    <tr style=\"text-align: right;\">\n",
       "      <th></th>\n",
       "      <th>group</th>\n",
       "      <th>gender</th>\n",
       "      <th>above 50</th>\n",
       "      <th>below 50</th>\n",
       "      <th>total</th>\n",
       "    </tr>\n",
       "  </thead>\n",
       "  <tbody>\n",
       "    <tr>\n",
       "      <th>0</th>\n",
       "      <td>0</td>\n",
       "      <td>Male</td>\n",
       "      <td>1882</td>\n",
       "      <td>1854</td>\n",
       "      <td>3736</td>\n",
       "    </tr>\n",
       "    <tr>\n",
       "      <th>1</th>\n",
       "      <td>0</td>\n",
       "      <td>Female</td>\n",
       "      <td>339</td>\n",
       "      <td>1280</td>\n",
       "      <td>1619</td>\n",
       "    </tr>\n",
       "    <tr>\n",
       "      <th>2</th>\n",
       "      <td>1</td>\n",
       "      <td>Male</td>\n",
       "      <td>1693</td>\n",
       "      <td>4320</td>\n",
       "      <td>6013</td>\n",
       "    </tr>\n",
       "    <tr>\n",
       "      <th>3</th>\n",
       "      <td>1</td>\n",
       "      <td>Female</td>\n",
       "      <td>320</td>\n",
       "      <td>3407</td>\n",
       "      <td>3727</td>\n",
       "    </tr>\n",
       "    <tr>\n",
       "      <th>4</th>\n",
       "      <td>2</td>\n",
       "      <td>Male</td>\n",
       "      <td>1449</td>\n",
       "      <td>5662</td>\n",
       "      <td>7111</td>\n",
       "    </tr>\n",
       "    <tr>\n",
       "      <th>5</th>\n",
       "      <td>2</td>\n",
       "      <td>Female</td>\n",
       "      <td>226</td>\n",
       "      <td>3164</td>\n",
       "      <td>3390</td>\n",
       "    </tr>\n",
       "    <tr>\n",
       "      <th>6</th>\n",
       "      <td>3</td>\n",
       "      <td>Male</td>\n",
       "      <td>381</td>\n",
       "      <td>103</td>\n",
       "      <td>484</td>\n",
       "    </tr>\n",
       "    <tr>\n",
       "      <th>7</th>\n",
       "      <td>3</td>\n",
       "      <td>Female</td>\n",
       "      <td>42</td>\n",
       "      <td>50</td>\n",
       "      <td>92</td>\n",
       "    </tr>\n",
       "    <tr>\n",
       "      <th>8</th>\n",
       "      <td>4</td>\n",
       "      <td>Male</td>\n",
       "      <td>780</td>\n",
       "      <td>407</td>\n",
       "      <td>1187</td>\n",
       "    </tr>\n",
       "    <tr>\n",
       "      <th>9</th>\n",
       "      <td>4</td>\n",
       "      <td>Female</td>\n",
       "      <td>179</td>\n",
       "      <td>357</td>\n",
       "      <td>536</td>\n",
       "    </tr>\n",
       "    <tr>\n",
       "      <th>10</th>\n",
       "      <td>5</td>\n",
       "      <td>Male</td>\n",
       "      <td>256</td>\n",
       "      <td>71</td>\n",
       "      <td>327</td>\n",
       "    </tr>\n",
       "    <tr>\n",
       "      <th>11</th>\n",
       "      <td>5</td>\n",
       "      <td>Female</td>\n",
       "      <td>50</td>\n",
       "      <td>36</td>\n",
       "      <td>86</td>\n",
       "    </tr>\n",
       "    <tr>\n",
       "      <th>12</th>\n",
       "      <td>6</td>\n",
       "      <td>Male</td>\n",
       "      <td>221</td>\n",
       "      <td>2711</td>\n",
       "      <td>2932</td>\n",
       "    </tr>\n",
       "    <tr>\n",
       "      <th>13</th>\n",
       "      <td>6</td>\n",
       "      <td>Female</td>\n",
       "      <td>23</td>\n",
       "      <td>1298</td>\n",
       "      <td>1321</td>\n",
       "    </tr>\n",
       "  </tbody>\n",
       "</table>\n",
       "</div>"
      ],
      "text/plain": [
       "   group  gender above 50 below 50 total\n",
       "0      0    Male     1882     1854  3736\n",
       "1      0  Female      339     1280  1619\n",
       "2      1    Male     1693     4320  6013\n",
       "3      1  Female      320     3407  3727\n",
       "4      2    Male     1449     5662  7111\n",
       "5      2  Female      226     3164  3390\n",
       "6      3    Male      381      103   484\n",
       "7      3  Female       42       50    92\n",
       "8      4    Male      780      407  1187\n",
       "9      4  Female      179      357   536\n",
       "10     5    Male      256       71   327\n",
       "11     5  Female       50       36    86\n",
       "12     6    Male      221     2711  2932\n",
       "13     6  Female       23     1298  1321"
      ]
     },
     "execution_count": 7,
     "metadata": {},
     "output_type": "execute_result"
    }
   ],
   "source": [
    "maindf"
   ]
  },
  {
   "cell_type": "code",
   "execution_count": 8,
   "metadata": {},
   "outputs": [],
   "source": [
    "mi = (maindf['gender'] == 'Male')*1"
   ]
  },
  {
   "cell_type": "code",
   "execution_count": 9,
   "metadata": {},
   "outputs": [
    {
     "data": {
      "text/plain": [
       "array([1, 0, 1, 0, 1, 0, 1, 0, 1, 0, 1, 0, 1, 0])"
      ]
     },
     "execution_count": 9,
     "metadata": {},
     "output_type": "execute_result"
    }
   ],
   "source": [
    "mi.values"
   ]
  },
  {
   "cell_type": "code",
   "execution_count": 11,
   "metadata": {},
   "outputs": [
    {
     "name": "stderr",
     "output_type": "stream",
     "text": [
      "Auto-assigning NUTS sampler...\n",
      "Initializing NUTS using jitter+adapt_diag...\n",
      "C:\\Users\\Shaan Desai\\Anaconda3\\envs\\am207\\lib\\site-packages\\pymc3\\model.py:384: FutureWarning: Conversion of the second argument of issubdtype from `float` to `np.floating` is deprecated. In future, it will be treated as `np.float64 == np.dtype(float).type`.\n",
      "  if not np.issubdtype(var.dtype, float):\n",
      "Multiprocess sampling (2 chains in 2 jobs)\n",
      "NUTS: [betam, alpha]\n",
      "The acceptance probability does not match the target. It is 0.9086862700635205, but should be close to 0.8. Try to increase the number of tuning steps.\n",
      "Auto-assigning NUTS sampler...\n",
      "Initializing NUTS using jitter+adapt_diag...\n",
      "C:\\Users\\Shaan Desai\\Anaconda3\\envs\\am207\\lib\\site-packages\\pymc3\\model.py:384: FutureWarning: Conversion of the second argument of issubdtype from `float` to `np.floating` is deprecated. In future, it will be treated as `np.float64 == np.dtype(float).type`.\n",
      "  if not np.issubdtype(var.dtype, float):\n",
      "Multiprocess sampling (2 chains in 2 jobs)\n",
      "NUTS: [betam, alpha]\n"
     ]
    }
   ],
   "source": [
    "with pm.Model() as gender:\n",
    "    alpha = pm.Normal(\"alpha\", 0, 10)\n",
    "    betam = pm.Normal(\"betam\", 0, 10)\n",
    "    logitpi = alpha + betam*mi.values\n",
    "    gen = pm.Binomial(\"gen\", p=pm.math.invlogit(logitpi),n=maindf['total'].values.tolist(),observed=maindf['above 50'].values)\n",
    "    gentrace = pm.sample(5000)\n",
    "\n",
    "with pm.Model() as nogender:\n",
    "    alpha = pm.Normal(\"alpha\", 0, 10)\n",
    "    betam = pm.Normal(\"betam\", 0, 10)\n",
    "    logitpi = alpha \n",
    "    nogen = pm.Binomial(\"nogen\", p=pm.math.invlogit(logitpi),n=maindf['total'].values.tolist(),observed=maindf['above 50'].values)\n",
    "    nogentrace = pm.sample(5000)\n",
    "\n"
   ]
  },
  {
   "cell_type": "code",
   "execution_count": 12,
   "metadata": {},
   "outputs": [],
   "source": [
    "def make_compare(names, traces, models, ic='WAIC'):\n",
    "    comparedf=pm.compare(traces,models, method='pseudo-BMA')\n",
    "    temp=comparedf.sort_index()\n",
    "    temp['Model']=names\n",
    "    comparedf = temp.sort_values(ic).set_index('Model')\n",
    "    return comparedf"
   ]
  },
  {
   "cell_type": "code",
   "execution_count": 13,
   "metadata": {},
   "outputs": [
    {
     "data": {
      "text/html": [
       "<div>\n",
       "<style scoped>\n",
       "    .dataframe tbody tr th:only-of-type {\n",
       "        vertical-align: middle;\n",
       "    }\n",
       "\n",
       "    .dataframe tbody tr th {\n",
       "        vertical-align: top;\n",
       "    }\n",
       "\n",
       "    .dataframe thead th {\n",
       "        text-align: right;\n",
       "    }\n",
       "</style>\n",
       "<table border=\"1\" class=\"dataframe\">\n",
       "  <thead>\n",
       "    <tr style=\"text-align: right;\">\n",
       "      <th></th>\n",
       "      <th>WAIC</th>\n",
       "      <th>pWAIC</th>\n",
       "      <th>dWAIC</th>\n",
       "      <th>weight</th>\n",
       "      <th>SE</th>\n",
       "      <th>dSE</th>\n",
       "      <th>warning</th>\n",
       "    </tr>\n",
       "    <tr>\n",
       "      <th>Model</th>\n",
       "      <th></th>\n",
       "      <th></th>\n",
       "      <th></th>\n",
       "      <th></th>\n",
       "      <th></th>\n",
       "      <th></th>\n",
       "      <th></th>\n",
       "    </tr>\n",
       "  </thead>\n",
       "  <tbody>\n",
       "    <tr>\n",
       "      <th>gender</th>\n",
       "      <td>4946.77</td>\n",
       "      <td>482.76</td>\n",
       "      <td>0</td>\n",
       "      <td>1</td>\n",
       "      <td>1190.08</td>\n",
       "      <td>0</td>\n",
       "      <td>1</td>\n",
       "    </tr>\n",
       "    <tr>\n",
       "      <th>nogender</th>\n",
       "      <td>6492.71</td>\n",
       "      <td>411.49</td>\n",
       "      <td>1545.94</td>\n",
       "      <td>0</td>\n",
       "      <td>1600.42</td>\n",
       "      <td>1397.89</td>\n",
       "      <td>1</td>\n",
       "    </tr>\n",
       "  </tbody>\n",
       "</table>\n",
       "</div>"
      ],
      "text/plain": [
       "             WAIC   pWAIC    dWAIC weight       SE      dSE warning\n",
       "Model                                                              \n",
       "gender    4946.77  482.76        0      1  1190.08        0       1\n",
       "nogender  6492.71  411.49  1545.94      0  1600.42  1397.89       1"
      ]
     },
     "execution_count": 13,
     "metadata": {},
     "output_type": "execute_result"
    }
   ],
   "source": [
    "names=['gender', 'nogender']\n",
    "dfc=make_compare(names, [gentrace,nogentrace],[gender,nogender])\n",
    "dfc"
   ]
  },
  {
   "cell_type": "code",
   "execution_count": 16,
   "metadata": {},
   "outputs": [
    {
     "name": "stderr",
     "output_type": "stream",
     "text": [
      "100%|██████████████████████████████████████████████████████████████████████████████| 500/500 [00:00<00:00, 2701.67it/s]\n",
      "100%|██████████████████████████████████████████████████████████████████████████████| 500/500 [00:00<00:00, 3519.56it/s]\n"
     ]
    }
   ],
   "source": [
    "ppcgen = pm.sample_ppc(gentrace,500,model=gender)\n",
    "ppcnogen = pm.sample_ppc(nogentrace,500,model=nogender)"
   ]
  },
  {
   "cell_type": "code",
   "execution_count": 17,
   "metadata": {
    "scrolled": false
   },
   "outputs": [
    {
     "data": {
      "text/plain": [
       "Text(0.5,1,'Posterior Predictive Check: Gender Included Model')"
      ]
     },
     "execution_count": 17,
     "metadata": {},
     "output_type": "execute_result"
    },
    {
     "data": {
      "image/png": "[encoded data removed]",
      "text/plain": [
       "<Figure size 1080x720 with 1 Axes>"
      ]
     },
     "metadata": {},
     "output_type": "display_data"
    }
   ],
   "source": [
    "hpdgen = pm.hpd(ppcgen['gen'])\n",
    "plt.figure(figsize=(15,10))\n",
    "for i in range(0,13,2):\n",
    "    y1 = maindf['above 50'][i]/maindf['total'][i]\n",
    "    y2 = maindf['above 50'][i+1]/maindf['total'][i+1]\n",
    "    plt.plot([i,i+1],[y1,y2],c='b',alpha=0.5)\n",
    "plt.scatter(range(14),ppcgen['gen'].mean(axis=0)/maindf['total'].values,s=30,edgecolors='b',linewidths=1,facecolors='none')\n",
    "plt.scatter(range(14),hpdgen[:,0]/maindf['total'],c='black',marker='+')\n",
    "plt.scatter(range(14),hpdgen[:,1]/maindf['total'],c='black',marker='+')\n",
    "plt.xlabel('group')\n",
    "plt.ylabel('probability of earning >=50K')\n",
    "plt.title('Posterior Predictive Check: Gender Included Model')"
   ]
  },
  {
   "cell_type": "code",
   "execution_count": 18,
   "metadata": {
    "scrolled": false
   },
   "outputs": [
    {
     "data": {
      "image/png": "[encoded data removed]",
      "text/plain": [
       "<Figure size 1080x720 with 1 Axes>"
      ]
     },
     "metadata": {},
     "output_type": "display_data"
    }
   ],
   "source": [
    "hpdgen = pm.hpd(ppcnogen['nogen'])\n",
    "plt.figure(figsize=(15,10))\n",
    "for i in range(0,13,2):\n",
    "    y1 = maindf['above 50'][i]/maindf['total'][i]\n",
    "    y2 = maindf['above 50'][i+1]/maindf['total'][i+1]\n",
    "    plt.plot([i,i+1],[y1,y2],c='b',alpha=0.5)\n",
    "plt.scatter(range(14),ppcnogen['nogen'].mean(axis=0)/maindf['total'].values,s=30,edgecolors='b',linewidths=1,facecolors='none')\n",
    "plt.scatter(range(14),hpdgen[:,0]/maindf['total'],c='black',marker='+')\n",
    "plt.scatter(range(14),hpdgen[:,1]/maindf['total'],c='black',marker='+')\n",
    "plt.xlabel('group')\n",
    "plt.ylabel('probability of earning >=50K')\n",
    "plt.title('Posterior Predictive Check: Gended Excluded Model');"
   ]
  },
  {
   "cell_type": "markdown",
   "metadata": {},
   "source": [
    "From our models it is clear that gender plays a signficant role in determining pay. We can see this in the plots as well as the fact that the gender inclusive model has a lower WAIC. The gender inclusive model  suggests women should have  20 percent lower pay on average across all education levels.However, we see that this is not the case across all our groups and we need a model to account for that."
   ]
  },
  {
   "cell_type": "markdown",
   "metadata": {},
   "source": [
    "Adding in the educational component"
   ]
  },
  {
   "cell_type": "code",
   "execution_count": 10,
   "metadata": {},
   "outputs": [
    {
     "name": "stderr",
     "output_type": "stream",
     "text": [
      "Auto-assigning NUTS sampler...\n",
      "Initializing NUTS using jitter+adapt_diag...\n",
      "C:\\Users\\Shaan Desai\\Anaconda3\\envs\\am207\\lib\\site-packages\\pymc3\\model.py:384: FutureWarning: Conversion of the second argument of issubdtype from `float` to `np.floating` is deprecated. In future, it will be treated as `np.float64 == np.dtype(float).type`.\n",
      "  if not np.issubdtype(var.dtype, float):\n",
      "Multiprocess sampling (2 chains in 2 jobs)\n",
      "NUTS: [dept_actor]\n",
      "Auto-assigning NUTS sampler...\n",
      "Initializing NUTS using jitter+adapt_diag...\n",
      "C:\\Users\\Shaan Desai\\Anaconda3\\envs\\am207\\lib\\site-packages\\pymc3\\model.py:384: FutureWarning: Conversion of the second argument of issubdtype from `float` to `np.floating` is deprecated. In future, it will be treated as `np.float64 == np.dtype(float).type`.\n",
      "  if not np.issubdtype(var.dtype, float):\n",
      "Multiprocess sampling (2 chains in 2 jobs)\n",
      "NUTS: [betam, dept_actor]\n"
     ]
    }
   ],
   "source": [
    "with pm.Model() as dept:\n",
    "    dept_actor = pm.Normal('dept_actor', 0., 10., shape=7)\n",
    "    logitpi =  dept_actor[maindf.index//2]\n",
    "    dpt = pm.Binomial(\"dpt\", p=pm.math.invlogit(logitpi),n=maindf['total'].values.tolist(),observed=maindf['above 50'].values)\n",
    "    dpttrace = pm.sample(5000)\n",
    "\n",
    "with pm.Model() as deptm:\n",
    "    dept_actor = pm.Normal('dept_actor', 0., 10., shape=7)\n",
    "    betam = pm.Normal(\"betam\", 0, 10)\n",
    "    logitpi =   dept_actor[maindf.index//2] + betam*mi.values\n",
    "    dptm = pm.Binomial(\"dptm\", p=pm.math.invlogit(logitpi),n=maindf['total'].values.tolist(),observed=maindf['above 50'].values)\n",
    "    dptmtrace = pm.sample(5000)\n"
   ]
  },
  {
   "cell_type": "code",
   "execution_count": 15,
   "metadata": {},
   "outputs": [
    {
     "data": {
      "text/html": [
       "<div>\n",
       "<style scoped>\n",
       "    .dataframe tbody tr th:only-of-type {\n",
       "        vertical-align: middle;\n",
       "    }\n",
       "\n",
       "    .dataframe tbody tr th {\n",
       "        vertical-align: top;\n",
       "    }\n",
       "\n",
       "    .dataframe thead th {\n",
       "        text-align: right;\n",
       "    }\n",
       "</style>\n",
       "<table border=\"1\" class=\"dataframe\">\n",
       "  <thead>\n",
       "    <tr style=\"text-align: right;\">\n",
       "      <th></th>\n",
       "      <th>WAIC</th>\n",
       "      <th>pWAIC</th>\n",
       "      <th>dWAIC</th>\n",
       "      <th>weight</th>\n",
       "      <th>SE</th>\n",
       "      <th>dSE</th>\n",
       "      <th>warning</th>\n",
       "    </tr>\n",
       "    <tr>\n",
       "      <th>Model</th>\n",
       "      <th></th>\n",
       "      <th></th>\n",
       "      <th></th>\n",
       "      <th></th>\n",
       "      <th></th>\n",
       "      <th></th>\n",
       "      <th></th>\n",
       "    </tr>\n",
       "  </thead>\n",
       "  <tbody>\n",
       "    <tr>\n",
       "      <th>education+gender</th>\n",
       "      <td>117.57</td>\n",
       "      <td>5.28</td>\n",
       "      <td>0</td>\n",
       "      <td>1</td>\n",
       "      <td>5.89</td>\n",
       "      <td>0</td>\n",
       "      <td>1</td>\n",
       "    </tr>\n",
       "    <tr>\n",
       "      <th>education</th>\n",
       "      <td>2768.78</td>\n",
       "      <td>679.68</td>\n",
       "      <td>2651.21</td>\n",
       "      <td>0</td>\n",
       "      <td>685.67</td>\n",
       "      <td>682.5</td>\n",
       "      <td>1</td>\n",
       "    </tr>\n",
       "    <tr>\n",
       "      <th>gender</th>\n",
       "      <td>4946.77</td>\n",
       "      <td>482.76</td>\n",
       "      <td>4829.2</td>\n",
       "      <td>0</td>\n",
       "      <td>1190.08</td>\n",
       "      <td>1188.64</td>\n",
       "      <td>1</td>\n",
       "    </tr>\n",
       "    <tr>\n",
       "      <th>nogender</th>\n",
       "      <td>6492.71</td>\n",
       "      <td>411.49</td>\n",
       "      <td>6375.14</td>\n",
       "      <td>0</td>\n",
       "      <td>1600.42</td>\n",
       "      <td>1599.07</td>\n",
       "      <td>1</td>\n",
       "    </tr>\n",
       "  </tbody>\n",
       "</table>\n",
       "</div>"
      ],
      "text/plain": [
       "                     WAIC   pWAIC    dWAIC weight       SE      dSE warning\n",
       "Model                                                                      \n",
       "education+gender   117.57    5.28        0      1     5.89        0       1\n",
       "education         2768.78  679.68  2651.21      0   685.67    682.5       1\n",
       "gender            4946.77  482.76   4829.2      0  1190.08  1188.64       1\n",
       "nogender          6492.71  411.49  6375.14      0  1600.42  1599.07       1"
      ]
     },
     "execution_count": 15,
     "metadata": {},
     "output_type": "execute_result"
    }
   ],
   "source": [
    "names=['gender', 'nogender','education','education+gender']\n",
    "dfc=make_compare(names, [gentrace,nogentrace,dpttrace,dptmtrace],[gender,nogender,dept,deptm])\n",
    "dfc"
   ]
  },
  {
   "cell_type": "code",
   "execution_count": 19,
   "metadata": {},
   "outputs": [
    {
     "name": "stderr",
     "output_type": "stream",
     "text": [
      "100%|███████████████████████████████████████████████████████████████████████████████| 500/500 [00:00<00:00, 621.37it/s]\n",
      "100%|███████████████████████████████████████████████████████████████████████████████| 500/500 [00:00<00:00, 615.38it/s]\n"
     ]
    }
   ],
   "source": [
    "ppcdpt = pm.sample_ppc(dpttrace,500,model=dept)\n",
    "ppcdptm = pm.sample_ppc(dptmtrace,500,model=deptm)"
   ]
  },
  {
   "cell_type": "code",
   "execution_count": 24,
   "metadata": {},
   "outputs": [
    {
     "data": {
      "text/plain": [
       "Text(0.5,1,'Posterior Predictive Check: Education Included Model')"
      ]
     },
     "execution_count": 24,
     "metadata": {},
     "output_type": "execute_result"
    },
    {
     "data": {
      "image/png": "[encoded data removed]",
      "text/plain": [
       "<Figure size 1080x720 with 1 Axes>"
      ]
     },
     "metadata": {},
     "output_type": "display_data"
    }
   ],
   "source": [
    "hpdgen = pm.hpd(ppcdpt['dpt'])\n",
    "plt.figure(figsize=(15,10))\n",
    "for i in range(0,13,2):\n",
    "    y1 = maindf['above 50'][i]/maindf['total'][i]\n",
    "    y2 = maindf['above 50'][i+1]/maindf['total'][i+1]\n",
    "    plt.plot([i,i+1],[y1,y2],c='b',alpha=0.5)\n",
    "plt.scatter(range(14),ppcdpt['dpt'].mean(axis=0)/maindf['total'].values,s=30,edgecolors='b',linewidths=1,facecolors='none')\n",
    "plt.scatter(range(14),hpdgen[:,0]/maindf['total'],c='black',marker='+')\n",
    "plt.scatter(range(14),hpdgen[:,1]/maindf['total'],c='black',marker='+')\n",
    "plt.xlabel('group')\n",
    "plt.ylabel('probability of earning >=50K')\n",
    "plt.title('Posterior Predictive Check: Education Included Model')"
   ]
  },
  {
   "cell_type": "code",
   "execution_count": 23,
   "metadata": {},
   "outputs": [
    {
     "data": {
      "text/plain": [
       "Text(0.5,1,'Posterior Predictive Check: Gender + Education Included Model')"
      ]
     },
     "execution_count": 23,
     "metadata": {},
     "output_type": "execute_result"
    },
    {
     "data": {
      "image/png": "[encoded data removed]",
      "text/plain": [
       "<Figure size 1080x720 with 1 Axes>"
      ]
     },
     "metadata": {},
     "output_type": "display_data"
    }
   ],
   "source": [
    "hpdgen = pm.hpd(ppcdptm['dptm'])\n",
    "plt.figure(figsize=(15,10))\n",
    "for i in range(0,13,2):\n",
    "    y1 = maindf['above 50'][i]/maindf['total'][i]\n",
    "    y2 = maindf['above 50'][i+1]/maindf['total'][i+1]\n",
    "    plt.plot([i,i+1],[y1,y2],c='b',alpha=0.5)\n",
    "plt.scatter(range(14),ppcdptm['dptm'].mean(axis=0)/maindf['total'].values,s=30,edgecolors='b',linewidths=1,facecolors='none')\n",
    "plt.scatter(range(14),hpdgen[:,0]/maindf['total'],c='black',marker='+')\n",
    "plt.scatter(range(14),hpdgen[:,1]/maindf['total'],c='black',marker='+')\n",
    "plt.xlabel('group')\n",
    "plt.ylabel('probability of earning >=50K')\n",
    "plt.title('Posterior Predictive Check: Gender + Education Included Model')"
   ]
  },
  {
   "cell_type": "markdown",
   "metadata": {},
   "source": [
    "We can see that the education model alone helps us get an average sense for income across the different education groups. In addition, by adding the gender component we are almost able to capture the trends perfectly which suggest quite strongly that pay classification strongly depends on a combination of gender and education level."
   ]
  },
  {
   "cell_type": "code",
   "execution_count": null,
   "metadata": {},
   "outputs": [],
   "source": []
  }
 ],
 "metadata": {
  "anaconda-cloud": {},
  "kernel_info": {
   "name": "python3"
  },
  "kernelspec": {
   "display_name": "Python 3",
   "language": "python",
   "name": "python3"
  },
  "language_info": {
   "codemirror_mode": {
    "name": "ipython",
    "version": 3
   },
   "file_extension": ".py",
   "mimetype": "text/x-python",
   "name": "python",
   "nbconvert_exporter": "python",
   "pygments_lexer": "ipython3",
   "version": "3.6.4"
  },
  "nteract": {
   "version": "0.8.4"
  }
 },
 "nbformat": 4,
 "nbformat_minor": 2
}
